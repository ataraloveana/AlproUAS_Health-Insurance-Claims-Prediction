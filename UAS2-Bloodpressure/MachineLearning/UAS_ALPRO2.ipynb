{
 "cells": [
  {
   "cell_type": "code",
   "execution_count": 105,
   "id": "e42fce07",
   "metadata": {
    "_cell_guid": "b1076dfc-b9ad-4769-8c92-a6c4dae69d19",
    "_uuid": "8f2839f25d086af736a60e9eeb907d3b93b6e0e5",
    "execution": {
     "iopub.execute_input": "2023-10-31T02:05:44.225045Z",
     "iopub.status.busy": "2023-10-31T02:05:44.224112Z",
     "iopub.status.idle": "2023-10-31T02:05:44.664595Z",
     "shell.execute_reply": "2023-10-31T02:05:44.663743Z"
    },
    "papermill": {
     "duration": 0.462886,
     "end_time": "2023-10-31T02:05:44.667838",
     "exception": false,
     "start_time": "2023-10-31T02:05:44.204952",
     "status": "completed"
    },
    "tags": [],
    "id": "e42fce07",
    "ExecuteTime": {
     "end_time": "2023-12-11T04:48:00.736439400Z",
     "start_time": "2023-12-11T04:47:59.965260500Z"
    }
   },
   "outputs": [],
   "source": [
    "# This Python 3 environment comes with many helpful analytics libraries installed\n",
    "# It is defined by the kaggle/python Docker image: https://github.com/kaggle/docker-python\n",
    "# For example, here's several helpful packages to load\n",
    "\n",
    "import numpy as np # linear algebra\n",
    "import pandas as pd # data processing, CSV file I/O (e.g. pd.read_csv)\n",
    "import gdown\n",
    "import pandas as pd\n",
    "import matplotlib.pyplot as plt\n",
    "\n"
   ]
  },
  {
   "cell_type": "code",
   "source": [
    "train_file_id = '1IBUkogpYIz2CPdMKtcbKmca2gXtkoXgV'\n",
    "\n",
    "train_output_file = 'train.csv'\n",
    "\n",
    "train_download_url = f'https://drive.google.com/uc?id={train_file_id}'\n",
    "\n",
    "gdown.download(train_download_url, train_output_file, quiet=False)\n",
    "\n",
    "data = pd.read_csv(train_output_file)"
   ],
   "metadata": {
    "colab": {
     "base_uri": "https://localhost:8080/"
    },
    "id": "SgAcR9_NuD3Z",
    "outputId": "a2cfa76e-33ff-4c97-a2dd-ee401f3b3b10",
    "ExecuteTime": {
     "end_time": "2023-12-11T04:48:03.376155500Z",
     "start_time": "2023-12-11T04:47:59.980902800Z"
    }
   },
   "id": "SgAcR9_NuD3Z",
   "execution_count": 106,
   "outputs": [
    {
     "name": "stderr",
     "output_type": "stream",
     "text": [
      "Downloading...\n",
      "From: https://drive.google.com/uc?id=1IBUkogpYIz2CPdMKtcbKmca2gXtkoXgV\n",
      "To: C:\\UNER\\SEMESTER 3\\ALGORITMA PEMROGRAMAN\\UAS\\train.csv\n",
      "100%|██████████| 968k/968k [00:00<00:00, 1.80MB/s]\n",
      "[Errno 13] Permission denied: 'train.csv'\n"
     ]
    }
   ]
  },
  {
   "cell_type": "code",
   "execution_count": 107,
   "id": "c7d1c626",
   "metadata": {
    "execution": {
     "iopub.execute_input": "2023-10-31T02:05:44.708002Z",
     "iopub.status.busy": "2023-10-31T02:05:44.707417Z",
     "iopub.status.idle": "2023-10-31T02:05:44.815273Z",
     "shell.execute_reply": "2023-10-31T02:05:44.813709Z"
    },
    "papermill": {
     "duration": 0.131391,
     "end_time": "2023-10-31T02:05:44.818439",
     "exception": false,
     "start_time": "2023-10-31T02:05:44.687048",
     "status": "completed"
    },
    "tags": [],
    "colab": {
     "base_uri": "https://localhost:8080/",
     "height": 423
    },
    "id": "c7d1c626",
    "outputId": "b5ea127d-2506-4e2d-d7c7-33955dc65290",
    "ExecuteTime": {
     "end_time": "2023-12-11T04:48:03.446368400Z",
     "start_time": "2023-12-11T04:48:03.366646700Z"
    }
   },
   "outputs": [
    {
     "data": {
      "text/plain": "        age     sex  weight   bmi hereditary_diseases  no_of_dependents  \\\n0      60.0    male      64  24.3           NoDisease                 1   \n1      49.0  female      75  22.6           NoDisease                 1   \n2      32.0  female      64  17.8            Epilepsy                 2   \n3      61.0  female      53  36.4           NoDisease                 1   \n4      19.0  female      50  20.6           NoDisease                 0   \n...     ...     ...     ...   ...                 ...               ...   \n14995  39.0    male      49  28.3           NoDisease                 1   \n14996  39.0    male      74  29.6           NoDisease                 4   \n14997  20.0    male      62  33.3           NoDisease                 0   \n14998  52.0    male      88  36.7           NoDisease                 0   \n14999  52.0    male      57  26.4           NoDisease                 3   \n\n       smoker         city  bloodpressure  diabetes  regular_ex  \\\n0           0      NewYork             72         0           0   \n1           0       Boston             78         1           1   \n2           1  Phildelphia             88         1           1   \n3           1    Pittsburg             72         1           0   \n4           0      Buffalo             82         1           0   \n...       ...          ...            ...       ...         ...   \n14995       1     Florence             54         1           0   \n14996       0        Miami             64         1           0   \n14997       0        Tampa             52         1           0   \n14998       0   PanamaCity             70         1           0   \n14999       0    Kingsport             72         1           0   \n\n             job_title    claim  \n0                Actor  13112.6  \n1             Engineer   9567.0  \n2          Academician  32734.2  \n3                 Chef  48517.6  \n4           HomeMakers   1731.7  \n...                ...      ...  \n14995        FilmMaker  21082.2  \n14996          Student   7512.3  \n14997  FashionDesigner   1391.5  \n14998           Farmer   9144.6  \n14999          Manager  25992.8  \n\n[15000 rows x 13 columns]",
      "text/html": "<div>\n<style scoped>\n    .dataframe tbody tr th:only-of-type {\n        vertical-align: middle;\n    }\n\n    .dataframe tbody tr th {\n        vertical-align: top;\n    }\n\n    .dataframe thead th {\n        text-align: right;\n    }\n</style>\n<table border=\"1\" class=\"dataframe\">\n  <thead>\n    <tr style=\"text-align: right;\">\n      <th></th>\n      <th>age</th>\n      <th>sex</th>\n      <th>weight</th>\n      <th>bmi</th>\n      <th>hereditary_diseases</th>\n      <th>no_of_dependents</th>\n      <th>smoker</th>\n      <th>city</th>\n      <th>bloodpressure</th>\n      <th>diabetes</th>\n      <th>regular_ex</th>\n      <th>job_title</th>\n      <th>claim</th>\n    </tr>\n  </thead>\n  <tbody>\n    <tr>\n      <th>0</th>\n      <td>60.0</td>\n      <td>male</td>\n      <td>64</td>\n      <td>24.3</td>\n      <td>NoDisease</td>\n      <td>1</td>\n      <td>0</td>\n      <td>NewYork</td>\n      <td>72</td>\n      <td>0</td>\n      <td>0</td>\n      <td>Actor</td>\n      <td>13112.6</td>\n    </tr>\n    <tr>\n      <th>1</th>\n      <td>49.0</td>\n      <td>female</td>\n      <td>75</td>\n      <td>22.6</td>\n      <td>NoDisease</td>\n      <td>1</td>\n      <td>0</td>\n      <td>Boston</td>\n      <td>78</td>\n      <td>1</td>\n      <td>1</td>\n      <td>Engineer</td>\n      <td>9567.0</td>\n    </tr>\n    <tr>\n      <th>2</th>\n      <td>32.0</td>\n      <td>female</td>\n      <td>64</td>\n      <td>17.8</td>\n      <td>Epilepsy</td>\n      <td>2</td>\n      <td>1</td>\n      <td>Phildelphia</td>\n      <td>88</td>\n      <td>1</td>\n      <td>1</td>\n      <td>Academician</td>\n      <td>32734.2</td>\n    </tr>\n    <tr>\n      <th>3</th>\n      <td>61.0</td>\n      <td>female</td>\n      <td>53</td>\n      <td>36.4</td>\n      <td>NoDisease</td>\n      <td>1</td>\n      <td>1</td>\n      <td>Pittsburg</td>\n      <td>72</td>\n      <td>1</td>\n      <td>0</td>\n      <td>Chef</td>\n      <td>48517.6</td>\n    </tr>\n    <tr>\n      <th>4</th>\n      <td>19.0</td>\n      <td>female</td>\n      <td>50</td>\n      <td>20.6</td>\n      <td>NoDisease</td>\n      <td>0</td>\n      <td>0</td>\n      <td>Buffalo</td>\n      <td>82</td>\n      <td>1</td>\n      <td>0</td>\n      <td>HomeMakers</td>\n      <td>1731.7</td>\n    </tr>\n    <tr>\n      <th>...</th>\n      <td>...</td>\n      <td>...</td>\n      <td>...</td>\n      <td>...</td>\n      <td>...</td>\n      <td>...</td>\n      <td>...</td>\n      <td>...</td>\n      <td>...</td>\n      <td>...</td>\n      <td>...</td>\n      <td>...</td>\n      <td>...</td>\n    </tr>\n    <tr>\n      <th>14995</th>\n      <td>39.0</td>\n      <td>male</td>\n      <td>49</td>\n      <td>28.3</td>\n      <td>NoDisease</td>\n      <td>1</td>\n      <td>1</td>\n      <td>Florence</td>\n      <td>54</td>\n      <td>1</td>\n      <td>0</td>\n      <td>FilmMaker</td>\n      <td>21082.2</td>\n    </tr>\n    <tr>\n      <th>14996</th>\n      <td>39.0</td>\n      <td>male</td>\n      <td>74</td>\n      <td>29.6</td>\n      <td>NoDisease</td>\n      <td>4</td>\n      <td>0</td>\n      <td>Miami</td>\n      <td>64</td>\n      <td>1</td>\n      <td>0</td>\n      <td>Student</td>\n      <td>7512.3</td>\n    </tr>\n    <tr>\n      <th>14997</th>\n      <td>20.0</td>\n      <td>male</td>\n      <td>62</td>\n      <td>33.3</td>\n      <td>NoDisease</td>\n      <td>0</td>\n      <td>0</td>\n      <td>Tampa</td>\n      <td>52</td>\n      <td>1</td>\n      <td>0</td>\n      <td>FashionDesigner</td>\n      <td>1391.5</td>\n    </tr>\n    <tr>\n      <th>14998</th>\n      <td>52.0</td>\n      <td>male</td>\n      <td>88</td>\n      <td>36.7</td>\n      <td>NoDisease</td>\n      <td>0</td>\n      <td>0</td>\n      <td>PanamaCity</td>\n      <td>70</td>\n      <td>1</td>\n      <td>0</td>\n      <td>Farmer</td>\n      <td>9144.6</td>\n    </tr>\n    <tr>\n      <th>14999</th>\n      <td>52.0</td>\n      <td>male</td>\n      <td>57</td>\n      <td>26.4</td>\n      <td>NoDisease</td>\n      <td>3</td>\n      <td>0</td>\n      <td>Kingsport</td>\n      <td>72</td>\n      <td>1</td>\n      <td>0</td>\n      <td>Manager</td>\n      <td>25992.8</td>\n    </tr>\n  </tbody>\n</table>\n<p>15000 rows × 13 columns</p>\n</div>"
     },
     "execution_count": 107,
     "metadata": {},
     "output_type": "execute_result"
    }
   ],
   "source": [
    "data=pd.read_csv(\"train.csv\")\n",
    "data"
   ]
  },
  {
   "cell_type": "code",
   "execution_count": 108,
   "id": "44fd3381",
   "metadata": {
    "execution": {
     "iopub.execute_input": "2023-10-31T02:05:44.854019Z",
     "iopub.status.busy": "2023-10-31T02:05:44.853582Z",
     "iopub.status.idle": "2023-10-31T02:05:44.874611Z",
     "shell.execute_reply": "2023-10-31T02:05:44.873266Z"
    },
    "papermill": {
     "duration": 0.042024,
     "end_time": "2023-10-31T02:05:44.877340",
     "exception": false,
     "start_time": "2023-10-31T02:05:44.835316",
     "status": "completed"
    },
    "tags": [],
    "colab": {
     "base_uri": "https://localhost:8080/",
     "height": 206
    },
    "id": "44fd3381",
    "outputId": "d0d4cda1-8ff5-4fb1-b50e-1324dbf1e3e7",
    "ExecuteTime": {
     "end_time": "2023-12-11T04:48:03.446368400Z",
     "start_time": "2023-12-11T04:48:03.423511500Z"
    }
   },
   "outputs": [
    {
     "data": {
      "text/plain": "    age     sex  weight   bmi hereditary_diseases  no_of_dependents  smoker  \\\n0  60.0    male      64  24.3           NoDisease                 1       0   \n1  49.0  female      75  22.6           NoDisease                 1       0   \n2  32.0  female      64  17.8            Epilepsy                 2       1   \n3  61.0  female      53  36.4           NoDisease                 1       1   \n4  19.0  female      50  20.6           NoDisease                 0       0   \n\n          city  bloodpressure  diabetes  regular_ex    job_title    claim  \n0      NewYork             72         0           0        Actor  13112.6  \n1       Boston             78         1           1     Engineer   9567.0  \n2  Phildelphia             88         1           1  Academician  32734.2  \n3    Pittsburg             72         1           0         Chef  48517.6  \n4      Buffalo             82         1           0   HomeMakers   1731.7  ",
      "text/html": "<div>\n<style scoped>\n    .dataframe tbody tr th:only-of-type {\n        vertical-align: middle;\n    }\n\n    .dataframe tbody tr th {\n        vertical-align: top;\n    }\n\n    .dataframe thead th {\n        text-align: right;\n    }\n</style>\n<table border=\"1\" class=\"dataframe\">\n  <thead>\n    <tr style=\"text-align: right;\">\n      <th></th>\n      <th>age</th>\n      <th>sex</th>\n      <th>weight</th>\n      <th>bmi</th>\n      <th>hereditary_diseases</th>\n      <th>no_of_dependents</th>\n      <th>smoker</th>\n      <th>city</th>\n      <th>bloodpressure</th>\n      <th>diabetes</th>\n      <th>regular_ex</th>\n      <th>job_title</th>\n      <th>claim</th>\n    </tr>\n  </thead>\n  <tbody>\n    <tr>\n      <th>0</th>\n      <td>60.0</td>\n      <td>male</td>\n      <td>64</td>\n      <td>24.3</td>\n      <td>NoDisease</td>\n      <td>1</td>\n      <td>0</td>\n      <td>NewYork</td>\n      <td>72</td>\n      <td>0</td>\n      <td>0</td>\n      <td>Actor</td>\n      <td>13112.6</td>\n    </tr>\n    <tr>\n      <th>1</th>\n      <td>49.0</td>\n      <td>female</td>\n      <td>75</td>\n      <td>22.6</td>\n      <td>NoDisease</td>\n      <td>1</td>\n      <td>0</td>\n      <td>Boston</td>\n      <td>78</td>\n      <td>1</td>\n      <td>1</td>\n      <td>Engineer</td>\n      <td>9567.0</td>\n    </tr>\n    <tr>\n      <th>2</th>\n      <td>32.0</td>\n      <td>female</td>\n      <td>64</td>\n      <td>17.8</td>\n      <td>Epilepsy</td>\n      <td>2</td>\n      <td>1</td>\n      <td>Phildelphia</td>\n      <td>88</td>\n      <td>1</td>\n      <td>1</td>\n      <td>Academician</td>\n      <td>32734.2</td>\n    </tr>\n    <tr>\n      <th>3</th>\n      <td>61.0</td>\n      <td>female</td>\n      <td>53</td>\n      <td>36.4</td>\n      <td>NoDisease</td>\n      <td>1</td>\n      <td>1</td>\n      <td>Pittsburg</td>\n      <td>72</td>\n      <td>1</td>\n      <td>0</td>\n      <td>Chef</td>\n      <td>48517.6</td>\n    </tr>\n    <tr>\n      <th>4</th>\n      <td>19.0</td>\n      <td>female</td>\n      <td>50</td>\n      <td>20.6</td>\n      <td>NoDisease</td>\n      <td>0</td>\n      <td>0</td>\n      <td>Buffalo</td>\n      <td>82</td>\n      <td>1</td>\n      <td>0</td>\n      <td>HomeMakers</td>\n      <td>1731.7</td>\n    </tr>\n  </tbody>\n</table>\n</div>"
     },
     "execution_count": 108,
     "metadata": {},
     "output_type": "execute_result"
    }
   ],
   "source": [
    "data.head()"
   ]
  },
  {
   "cell_type": "code",
   "execution_count": 109,
   "id": "e26446ee",
   "metadata": {
    "execution": {
     "iopub.execute_input": "2023-10-31T02:05:44.914117Z",
     "iopub.status.busy": "2023-10-31T02:05:44.913680Z",
     "iopub.status.idle": "2023-10-31T02:05:44.921470Z",
     "shell.execute_reply": "2023-10-31T02:05:44.919864Z"
    },
    "papermill": {
     "duration": 0.029766,
     "end_time": "2023-10-31T02:05:44.924297",
     "exception": false,
     "start_time": "2023-10-31T02:05:44.894531",
     "status": "completed"
    },
    "tags": [],
    "colab": {
     "base_uri": "https://localhost:8080/"
    },
    "id": "e26446ee",
    "outputId": "0fd3be23-1572-48d8-abce-95112bee88c8",
    "ExecuteTime": {
     "end_time": "2023-12-11T04:48:03.450618700Z",
     "start_time": "2023-12-11T04:48:03.442858400Z"
    }
   },
   "outputs": [
    {
     "name": "stdout",
     "output_type": "stream",
     "text": [
      "no. of rows 15000\n",
      "no. of columns 13\n"
     ]
    }
   ],
   "source": [
    "print(\"no. of rows\",data.shape[0])\n",
    "print(\"no. of columns\",data.shape[1])"
   ]
  },
  {
   "cell_type": "markdown",
   "id": "43e1c610",
   "metadata": {
    "papermill": {
     "duration": 0.017091,
     "end_time": "2023-10-31T02:05:44.958460",
     "exception": false,
     "start_time": "2023-10-31T02:05:44.941369",
     "status": "completed"
    },
    "tags": [],
    "id": "43e1c610"
   },
   "source": [
    "# To check number of null values in each column"
   ]
  },
  {
   "cell_type": "code",
   "execution_count": 110,
   "id": "9540fce1",
   "metadata": {
    "execution": {
     "iopub.execute_input": "2023-10-31T02:05:44.995816Z",
     "iopub.status.busy": "2023-10-31T02:05:44.995342Z",
     "iopub.status.idle": "2023-10-31T02:05:45.014558Z",
     "shell.execute_reply": "2023-10-31T02:05:45.013334Z"
    },
    "papermill": {
     "duration": 0.041283,
     "end_time": "2023-10-31T02:05:45.017224",
     "exception": false,
     "start_time": "2023-10-31T02:05:44.975941",
     "status": "completed"
    },
    "tags": [],
    "colab": {
     "base_uri": "https://localhost:8080/"
    },
    "id": "9540fce1",
    "outputId": "843d8737-647e-4860-fa88-50df711ba5db",
    "ExecuteTime": {
     "end_time": "2023-12-11T04:48:03.507108200Z",
     "start_time": "2023-12-11T04:48:03.449626500Z"
    }
   },
   "outputs": [
    {
     "data": {
      "text/plain": "age                    396\nsex                      0\nweight                   0\nbmi                    956\nhereditary_diseases      0\nno_of_dependents         0\nsmoker                   0\ncity                     0\nbloodpressure            0\ndiabetes                 0\nregular_ex               0\njob_title                0\nclaim                    0\ndtype: int64"
     },
     "execution_count": 110,
     "metadata": {},
     "output_type": "execute_result"
    }
   ],
   "source": [
    "data.isnull().sum()"
   ]
  },
  {
   "cell_type": "raw",
   "id": "9289118b",
   "metadata": {
    "papermill": {
     "duration": 0.016987,
     "end_time": "2023-10-31T02:05:45.051750",
     "exception": false,
     "start_time": "2023-10-31T02:05:45.034763",
     "status": "completed"
    },
    "tags": [],
    "id": "9289118b"
   },
   "source": [
    "There are 396 null values in \"age\" column and 956 in \"bmi\" column.Dropping this rows may lead to lose of crucial data set, so we are going to fill these values with respective \"mean\" values."
   ]
  },
  {
   "cell_type": "code",
   "execution_count": 111,
   "id": "431c10e0",
   "metadata": {
    "execution": {
     "iopub.execute_input": "2023-10-31T02:05:45.089053Z",
     "iopub.status.busy": "2023-10-31T02:05:45.088518Z",
     "iopub.status.idle": "2023-10-31T02:05:47.066150Z",
     "shell.execute_reply": "2023-10-31T02:05:47.064654Z"
    },
    "papermill": {
     "duration": 1.999922,
     "end_time": "2023-10-31T02:05:47.069119",
     "exception": false,
     "start_time": "2023-10-31T02:05:45.069197",
     "status": "completed"
    },
    "tags": [],
    "colab": {
     "base_uri": "https://localhost:8080/"
    },
    "id": "431c10e0",
    "outputId": "4fc62354-58dd-4161-9e6b-d7f8c8731564",
    "ExecuteTime": {
     "end_time": "2023-12-11T04:48:03.572558Z",
     "start_time": "2023-12-11T04:48:03.466736500Z"
    }
   },
   "outputs": [
    {
     "data": {
      "text/plain": "age                    0\nsex                    0\nweight                 0\nbmi                    0\nhereditary_diseases    0\nno_of_dependents       0\nsmoker                 0\ncity                   0\nbloodpressure          0\ndiabetes               0\nregular_ex             0\njob_title              0\nclaim                  0\ndtype: int64"
     },
     "execution_count": 111,
     "metadata": {},
     "output_type": "execute_result"
    }
   ],
   "source": [
    "\n",
    "from sklearn.impute import SimpleImputer\n",
    "\n",
    "# Initialize the SimpleImputer with the strategy 'mean'\n",
    "imputer = SimpleImputer(strategy='mean')\n",
    "\n",
    "# Specify the columns with missing values that we want to impute\n",
    "columns_with_missing_values = ['age', 'bmi']\n",
    "\n",
    "# Apply the imputer to fill missing values with the mean\n",
    "data[columns_with_missing_values] = imputer.fit_transform(data[columns_with_missing_values])\n",
    "\n",
    "data.isnull().sum()"
   ]
  },
  {
   "cell_type": "code",
   "execution_count": 112,
   "id": "c593b8b9",
   "metadata": {
    "execution": {
     "iopub.execute_input": "2023-10-31T02:05:47.108757Z",
     "iopub.status.busy": "2023-10-31T02:05:47.108232Z",
     "iopub.status.idle": "2023-10-31T02:05:47.115103Z",
     "shell.execute_reply": "2023-10-31T02:05:47.113845Z"
    },
    "papermill": {
     "duration": 0.029849,
     "end_time": "2023-10-31T02:05:47.117815",
     "exception": false,
     "start_time": "2023-10-31T02:05:47.087966",
     "status": "completed"
    },
    "tags": [],
    "colab": {
     "base_uri": "https://localhost:8080/"
    },
    "id": "c593b8b9",
    "outputId": "56e58cf9-fa83-42cd-e7db-fce51225035b",
    "ExecuteTime": {
     "end_time": "2023-12-11T04:48:03.572558Z",
     "start_time": "2023-12-11T04:48:03.497145Z"
    }
   },
   "outputs": [
    {
     "name": "stdout",
     "output_type": "stream",
     "text": [
      "no. of rows 15000\n",
      "no. of columns 13\n"
     ]
    }
   ],
   "source": [
    "print(\"no. of rows\",data.shape[0])\n",
    "print(\"no. of columns\",data.shape[1])\n",
    "# no data is lost,while dealing with missing values"
   ]
  },
  {
   "cell_type": "code",
   "execution_count": 113,
   "id": "2acef810",
   "metadata": {
    "execution": {
     "iopub.execute_input": "2023-10-31T02:05:47.157928Z",
     "iopub.status.busy": "2023-10-31T02:05:47.157423Z",
     "iopub.status.idle": "2023-10-31T02:05:47.237339Z",
     "shell.execute_reply": "2023-10-31T02:05:47.236361Z"
    },
    "papermill": {
     "duration": 0.103518,
     "end_time": "2023-10-31T02:05:47.239823",
     "exception": false,
     "start_time": "2023-10-31T02:05:47.136305",
     "status": "completed"
    },
    "tags": [],
    "colab": {
     "base_uri": "https://localhost:8080/",
     "height": 414
    },
    "id": "2acef810",
    "outputId": "f34ef784-6db5-4876-aebb-fee3af421062",
    "ExecuteTime": {
     "end_time": "2023-12-11T04:48:03.696039800Z",
     "start_time": "2023-12-11T04:48:03.507108200Z"
    }
   },
   "outputs": [
    {
     "data": {
      "text/plain": "                 age     sex        weight           bmi hereditary_diseases  \\\ncount   15000.000000   15000  15000.000000  15000.000000               15000   \nunique           NaN       2           NaN           NaN                  10   \ntop              NaN  female           NaN           NaN           NoDisease   \nfreq             NaN    7652           NaN           NaN               13998   \nmean       39.547521     NaN     64.909600     30.266413                 NaN   \nstd        13.829705     NaN     13.701935      5.924606                 NaN   \nmin        18.000000     NaN     34.000000     16.000000                 NaN   \n25%        27.000000     NaN     54.000000     25.900000                 NaN   \n50%        40.000000     NaN     63.000000     29.800000                 NaN   \n75%        51.000000     NaN     76.000000     34.100000                 NaN   \nmax        64.000000     NaN     95.000000     53.100000                 NaN   \n\n        no_of_dependents        smoker        city  bloodpressure  \\\ncount       15000.000000  15000.000000       15000   15000.000000   \nunique               NaN           NaN          91            NaN   \ntop                  NaN           NaN  NewOrleans            NaN   \nfreq                 NaN           NaN         302            NaN   \nmean            1.129733      0.198133         NaN      68.650133   \nstd             1.228469      0.398606         NaN      19.418515   \nmin             0.000000      0.000000         NaN       0.000000   \n25%             0.000000      0.000000         NaN      64.000000   \n50%             1.000000      0.000000         NaN      71.000000   \n75%             2.000000      0.000000         NaN      80.000000   \nmax             5.000000      1.000000         NaN     122.000000   \n\n            diabetes    regular_ex job_title         claim  \ncount   15000.000000  15000.000000     15000  15000.000000  \nunique           NaN           NaN        35           NaN  \ntop              NaN           NaN   Student           NaN  \nfreq             NaN           NaN      1320           NaN  \nmean        0.777000      0.224133       NaN  13401.437620  \nstd         0.416272      0.417024       NaN  12148.239619  \nmin         0.000000      0.000000       NaN   1121.900000  \n25%         1.000000      0.000000       NaN   4846.900000  \n50%         1.000000      0.000000       NaN   9545.650000  \n75%         1.000000      0.000000       NaN  16519.125000  \nmax         1.000000      1.000000       NaN  63770.400000  ",
      "text/html": "<div>\n<style scoped>\n    .dataframe tbody tr th:only-of-type {\n        vertical-align: middle;\n    }\n\n    .dataframe tbody tr th {\n        vertical-align: top;\n    }\n\n    .dataframe thead th {\n        text-align: right;\n    }\n</style>\n<table border=\"1\" class=\"dataframe\">\n  <thead>\n    <tr style=\"text-align: right;\">\n      <th></th>\n      <th>age</th>\n      <th>sex</th>\n      <th>weight</th>\n      <th>bmi</th>\n      <th>hereditary_diseases</th>\n      <th>no_of_dependents</th>\n      <th>smoker</th>\n      <th>city</th>\n      <th>bloodpressure</th>\n      <th>diabetes</th>\n      <th>regular_ex</th>\n      <th>job_title</th>\n      <th>claim</th>\n    </tr>\n  </thead>\n  <tbody>\n    <tr>\n      <th>count</th>\n      <td>15000.000000</td>\n      <td>15000</td>\n      <td>15000.000000</td>\n      <td>15000.000000</td>\n      <td>15000</td>\n      <td>15000.000000</td>\n      <td>15000.000000</td>\n      <td>15000</td>\n      <td>15000.000000</td>\n      <td>15000.000000</td>\n      <td>15000.000000</td>\n      <td>15000</td>\n      <td>15000.000000</td>\n    </tr>\n    <tr>\n      <th>unique</th>\n      <td>NaN</td>\n      <td>2</td>\n      <td>NaN</td>\n      <td>NaN</td>\n      <td>10</td>\n      <td>NaN</td>\n      <td>NaN</td>\n      <td>91</td>\n      <td>NaN</td>\n      <td>NaN</td>\n      <td>NaN</td>\n      <td>35</td>\n      <td>NaN</td>\n    </tr>\n    <tr>\n      <th>top</th>\n      <td>NaN</td>\n      <td>female</td>\n      <td>NaN</td>\n      <td>NaN</td>\n      <td>NoDisease</td>\n      <td>NaN</td>\n      <td>NaN</td>\n      <td>NewOrleans</td>\n      <td>NaN</td>\n      <td>NaN</td>\n      <td>NaN</td>\n      <td>Student</td>\n      <td>NaN</td>\n    </tr>\n    <tr>\n      <th>freq</th>\n      <td>NaN</td>\n      <td>7652</td>\n      <td>NaN</td>\n      <td>NaN</td>\n      <td>13998</td>\n      <td>NaN</td>\n      <td>NaN</td>\n      <td>302</td>\n      <td>NaN</td>\n      <td>NaN</td>\n      <td>NaN</td>\n      <td>1320</td>\n      <td>NaN</td>\n    </tr>\n    <tr>\n      <th>mean</th>\n      <td>39.547521</td>\n      <td>NaN</td>\n      <td>64.909600</td>\n      <td>30.266413</td>\n      <td>NaN</td>\n      <td>1.129733</td>\n      <td>0.198133</td>\n      <td>NaN</td>\n      <td>68.650133</td>\n      <td>0.777000</td>\n      <td>0.224133</td>\n      <td>NaN</td>\n      <td>13401.437620</td>\n    </tr>\n    <tr>\n      <th>std</th>\n      <td>13.829705</td>\n      <td>NaN</td>\n      <td>13.701935</td>\n      <td>5.924606</td>\n      <td>NaN</td>\n      <td>1.228469</td>\n      <td>0.398606</td>\n      <td>NaN</td>\n      <td>19.418515</td>\n      <td>0.416272</td>\n      <td>0.417024</td>\n      <td>NaN</td>\n      <td>12148.239619</td>\n    </tr>\n    <tr>\n      <th>min</th>\n      <td>18.000000</td>\n      <td>NaN</td>\n      <td>34.000000</td>\n      <td>16.000000</td>\n      <td>NaN</td>\n      <td>0.000000</td>\n      <td>0.000000</td>\n      <td>NaN</td>\n      <td>0.000000</td>\n      <td>0.000000</td>\n      <td>0.000000</td>\n      <td>NaN</td>\n      <td>1121.900000</td>\n    </tr>\n    <tr>\n      <th>25%</th>\n      <td>27.000000</td>\n      <td>NaN</td>\n      <td>54.000000</td>\n      <td>25.900000</td>\n      <td>NaN</td>\n      <td>0.000000</td>\n      <td>0.000000</td>\n      <td>NaN</td>\n      <td>64.000000</td>\n      <td>1.000000</td>\n      <td>0.000000</td>\n      <td>NaN</td>\n      <td>4846.900000</td>\n    </tr>\n    <tr>\n      <th>50%</th>\n      <td>40.000000</td>\n      <td>NaN</td>\n      <td>63.000000</td>\n      <td>29.800000</td>\n      <td>NaN</td>\n      <td>1.000000</td>\n      <td>0.000000</td>\n      <td>NaN</td>\n      <td>71.000000</td>\n      <td>1.000000</td>\n      <td>0.000000</td>\n      <td>NaN</td>\n      <td>9545.650000</td>\n    </tr>\n    <tr>\n      <th>75%</th>\n      <td>51.000000</td>\n      <td>NaN</td>\n      <td>76.000000</td>\n      <td>34.100000</td>\n      <td>NaN</td>\n      <td>2.000000</td>\n      <td>0.000000</td>\n      <td>NaN</td>\n      <td>80.000000</td>\n      <td>1.000000</td>\n      <td>0.000000</td>\n      <td>NaN</td>\n      <td>16519.125000</td>\n    </tr>\n    <tr>\n      <th>max</th>\n      <td>64.000000</td>\n      <td>NaN</td>\n      <td>95.000000</td>\n      <td>53.100000</td>\n      <td>NaN</td>\n      <td>5.000000</td>\n      <td>1.000000</td>\n      <td>NaN</td>\n      <td>122.000000</td>\n      <td>1.000000</td>\n      <td>1.000000</td>\n      <td>NaN</td>\n      <td>63770.400000</td>\n    </tr>\n  </tbody>\n</table>\n</div>"
     },
     "execution_count": 113,
     "metadata": {},
     "output_type": "execute_result"
    }
   ],
   "source": [
    "data.describe(include='all')"
   ]
  },
  {
   "cell_type": "code",
   "execution_count": 114,
   "id": "78b16101",
   "metadata": {
    "execution": {
     "iopub.execute_input": "2023-10-31T02:05:47.280955Z",
     "iopub.status.busy": "2023-10-31T02:05:47.280280Z",
     "iopub.status.idle": "2023-10-31T02:05:47.314039Z",
     "shell.execute_reply": "2023-10-31T02:05:47.312540Z"
    },
    "papermill": {
     "duration": 0.058528,
     "end_time": "2023-10-31T02:05:47.317472",
     "exception": false,
     "start_time": "2023-10-31T02:05:47.258944",
     "status": "completed"
    },
    "tags": [],
    "colab": {
     "base_uri": "https://localhost:8080/"
    },
    "id": "78b16101",
    "outputId": "68e60903-44e8-4cb0-d515-e29b16b356d5",
    "ExecuteTime": {
     "end_time": "2023-12-11T04:48:03.729990600Z",
     "start_time": "2023-12-11T04:48:03.557223800Z"
    }
   },
   "outputs": [
    {
     "name": "stdout",
     "output_type": "stream",
     "text": [
      "<class 'pandas.core.frame.DataFrame'>\n",
      "RangeIndex: 15000 entries, 0 to 14999\n",
      "Data columns (total 13 columns):\n",
      " #   Column               Non-Null Count  Dtype  \n",
      "---  ------               --------------  -----  \n",
      " 0   age                  15000 non-null  float64\n",
      " 1   sex                  15000 non-null  object \n",
      " 2   weight               15000 non-null  int64  \n",
      " 3   bmi                  15000 non-null  float64\n",
      " 4   hereditary_diseases  15000 non-null  object \n",
      " 5   no_of_dependents     15000 non-null  int64  \n",
      " 6   smoker               15000 non-null  int64  \n",
      " 7   city                 15000 non-null  object \n",
      " 8   bloodpressure        15000 non-null  int64  \n",
      " 9   diabetes             15000 non-null  int64  \n",
      " 10  regular_ex           15000 non-null  int64  \n",
      " 11  job_title            15000 non-null  object \n",
      " 12  claim                15000 non-null  float64\n",
      "dtypes: float64(3), int64(6), object(4)\n",
      "memory usage: 1.5+ MB\n"
     ]
    }
   ],
   "source": [
    "data.info()\n",
    "# we have to convert the object to int or float for upcoming machine learning algos \"sex\",\"hereditary_diseases\",\"city\",\"job_title\""
   ]
  },
  {
   "cell_type": "code",
   "execution_count": 115,
   "id": "0faf2224",
   "metadata": {
    "execution": {
     "iopub.execute_input": "2023-10-31T02:05:47.359556Z",
     "iopub.status.busy": "2023-10-31T02:05:47.358476Z",
     "iopub.status.idle": "2023-10-31T02:05:47.369591Z",
     "shell.execute_reply": "2023-10-31T02:05:47.368119Z"
    },
    "papermill": {
     "duration": 0.03508,
     "end_time": "2023-10-31T02:05:47.372205",
     "exception": false,
     "start_time": "2023-10-31T02:05:47.337125",
     "status": "completed"
    },
    "tags": [],
    "colab": {
     "base_uri": "https://localhost:8080/"
    },
    "id": "0faf2224",
    "outputId": "8c7ac469-3d7c-4d8b-915e-a09458677815",
    "ExecuteTime": {
     "end_time": "2023-12-11T04:48:03.750264500Z",
     "start_time": "2023-12-11T04:48:03.572558Z"
    }
   },
   "outputs": [
    {
     "data": {
      "text/plain": "array(['male', 'female'], dtype=object)"
     },
     "execution_count": 115,
     "metadata": {},
     "output_type": "execute_result"
    }
   ],
   "source": [
    "data[\"sex\"].unique()"
   ]
  },
  {
   "cell_type": "code",
   "execution_count": 116,
   "id": "edb0c15c",
   "metadata": {
    "execution": {
     "iopub.execute_input": "2023-10-31T02:05:47.511839Z",
     "iopub.status.busy": "2023-10-31T02:05:47.511305Z",
     "iopub.status.idle": "2023-10-31T02:05:47.526896Z",
     "shell.execute_reply": "2023-10-31T02:05:47.525621Z"
    },
    "papermill": {
     "duration": 0.039193,
     "end_time": "2023-10-31T02:05:47.529449",
     "exception": false,
     "start_time": "2023-10-31T02:05:47.490256",
     "status": "completed"
    },
    "tags": [],
    "colab": {
     "base_uri": "https://localhost:8080/"
    },
    "id": "edb0c15c",
    "outputId": "f42985ea-fc7c-4dbe-bdab-f2b057978037",
    "ExecuteTime": {
     "end_time": "2023-12-11T04:48:03.857514200Z",
     "start_time": "2023-12-11T04:48:03.597910100Z"
    }
   },
   "outputs": [
    {
     "data": {
      "text/plain": "array([1, 0], dtype=int64)"
     },
     "execution_count": 116,
     "metadata": {},
     "output_type": "execute_result"
    }
   ],
   "source": [
    "#values mapped to integers (0 and 1)\n",
    "data['sex']=data['sex'].map({'female':0,'male':1})\n",
    "data[\"sex\"].unique()"
   ]
  },
  {
   "cell_type": "code",
   "execution_count": 117,
   "id": "6a4de786",
   "metadata": {
    "execution": {
     "iopub.execute_input": "2023-10-31T02:05:47.570618Z",
     "iopub.status.busy": "2023-10-31T02:05:47.570100Z",
     "iopub.status.idle": "2023-10-31T02:05:47.579975Z",
     "shell.execute_reply": "2023-10-31T02:05:47.579010Z"
    },
    "papermill": {
     "duration": 0.033435,
     "end_time": "2023-10-31T02:05:47.582469",
     "exception": false,
     "start_time": "2023-10-31T02:05:47.549034",
     "status": "completed"
    },
    "tags": [],
    "colab": {
     "base_uri": "https://localhost:8080/"
    },
    "id": "6a4de786",
    "outputId": "c21d2785-1106-4768-f0f3-9c279416bf0f",
    "ExecuteTime": {
     "end_time": "2023-12-11T04:48:03.857514200Z",
     "start_time": "2023-12-11T04:48:03.617905800Z"
    }
   },
   "outputs": [
    {
     "data": {
      "text/plain": "array(['NoDisease', 'Epilepsy', 'EyeDisease', 'Alzheimer', 'Arthritis',\n       'HeartDisease', 'Diabetes', 'Cancer', 'High BP', 'Obesity'],\n      dtype=object)"
     },
     "execution_count": 117,
     "metadata": {},
     "output_type": "execute_result"
    }
   ],
   "source": [
    "data[\"hereditary_diseases\"].unique()"
   ]
  },
  {
   "cell_type": "code",
   "execution_count": 118,
   "id": "97f8c55a",
   "metadata": {
    "execution": {
     "iopub.execute_input": "2023-10-31T02:05:47.624247Z",
     "iopub.status.busy": "2023-10-31T02:05:47.623732Z",
     "iopub.status.idle": "2023-10-31T02:05:47.638239Z",
     "shell.execute_reply": "2023-10-31T02:05:47.637035Z"
    },
    "papermill": {
     "duration": 0.038655,
     "end_time": "2023-10-31T02:05:47.640844",
     "exception": false,
     "start_time": "2023-10-31T02:05:47.602189",
     "status": "completed"
    },
    "tags": [],
    "colab": {
     "base_uri": "https://localhost:8080/"
    },
    "id": "97f8c55a",
    "outputId": "498fa8d4-4502-415e-db16-ea488def8a83",
    "ExecuteTime": {
     "end_time": "2023-12-11T04:48:03.857514200Z",
     "start_time": "2023-12-11T04:48:03.621590Z"
    }
   },
   "outputs": [
    {
     "data": {
      "text/plain": "array([0, 1, 2, 3, 4, 5, 6, 7, 8, 9], dtype=int64)"
     },
     "execution_count": 118,
     "metadata": {},
     "output_type": "execute_result"
    }
   ],
   "source": [
    "data[\"hereditary_diseases\"]=data[\"hereditary_diseases\"].map({'NoDisease':0, 'Epilepsy':1, 'EyeDisease':2, 'Alzheimer':3, 'Arthritis':4,\n",
    "       'HeartDisease':5, 'Diabetes':6, 'Cancer':7, 'High BP':8, 'Obesity':9})\n",
    "data[\"hereditary_diseases\"].unique()\n",
    "# mapping done"
   ]
  },
  {
   "cell_type": "code",
   "execution_count": 119,
   "id": "00c1e400",
   "metadata": {
    "execution": {
     "iopub.execute_input": "2023-10-31T02:05:47.682452Z",
     "iopub.status.busy": "2023-10-31T02:05:47.681911Z",
     "iopub.status.idle": "2023-10-31T02:05:47.692730Z",
     "shell.execute_reply": "2023-10-31T02:05:47.691758Z"
    },
    "papermill": {
     "duration": 0.034478,
     "end_time": "2023-10-31T02:05:47.695107",
     "exception": false,
     "start_time": "2023-10-31T02:05:47.660629",
     "status": "completed"
    },
    "tags": [],
    "colab": {
     "base_uri": "https://localhost:8080/"
    },
    "id": "00c1e400",
    "outputId": "05d8ab54-213c-420e-82e2-d2fce6fded50",
    "ExecuteTime": {
     "end_time": "2023-12-11T04:48:03.857514200Z",
     "start_time": "2023-12-11T04:48:03.637128700Z"
    }
   },
   "outputs": [
    {
     "data": {
      "text/plain": "array(['NewYork', 'Boston', 'Phildelphia', 'Pittsburg', 'Buffalo',\n       'AtlanticCity', 'Portland', 'Cambridge', 'Hartford', 'Springfield',\n       'Syracuse', 'Baltimore', 'York', 'Trenton', 'Warwick',\n       'WashingtonDC', 'Providence', 'Harrisburg', 'Newport', 'Stamford',\n       'Worcester', 'Atlanta', 'Brimingham', 'Charleston', 'Charlotte',\n       'Louisville', 'Memphis', 'Nashville', 'NewOrleans', 'Raleigh',\n       'Houston', 'Georgia', 'Oklahoma', 'Orlando', 'Macon', 'Huntsville',\n       'Knoxville', 'Florence', 'Miami', 'Tampa', 'PanamaCity',\n       'Kingsport', 'Marshall', 'Mandan', 'Waterloo', 'IowaCity',\n       'Columbia', 'Indianapolis', 'Cincinnati', 'Bloomington', 'Salina',\n       'KanasCity', 'Brookings', 'Minot', 'Chicago', 'Lincoln',\n       'FallsCity', 'GrandForks', 'Fargo', 'Cleveland', 'Canton',\n       'Columbus', 'Rochester', 'Minneapolis', 'JeffersonCity',\n       'Escabana', 'Youngstown', 'SantaRosa', 'Eureka', 'SanFrancisco',\n       'SanJose', 'LosAngeles', 'Oxnard', 'SanDeigo', 'Oceanside',\n       'Carlsbad', 'Montrose', 'Prescott', 'Fresno', 'Reno', 'LasVegas',\n       'Tucson', 'SanLuis', 'Denver', 'Kingman', 'Bakersfield',\n       'Mexicali', 'SilverCity', 'Pheonix', 'SantaFe', 'Lovelock'],\n      dtype=object)"
     },
     "execution_count": 119,
     "metadata": {},
     "output_type": "execute_result"
    }
   ],
   "source": [
    "data[\"city\"].unique()"
   ]
  },
  {
   "cell_type": "code",
   "execution_count": 120,
   "id": "05d4bb9f",
   "metadata": {
    "execution": {
     "iopub.execute_input": "2023-10-31T02:05:47.738126Z",
     "iopub.status.busy": "2023-10-31T02:05:47.737602Z",
     "iopub.status.idle": "2023-10-31T02:05:47.761937Z",
     "shell.execute_reply": "2023-10-31T02:05:47.760679Z"
    },
    "papermill": {
     "duration": 0.049145,
     "end_time": "2023-10-31T02:05:47.764520",
     "exception": false,
     "start_time": "2023-10-31T02:05:47.715375",
     "status": "completed"
    },
    "tags": [],
    "colab": {
     "base_uri": "https://localhost:8080/"
    },
    "id": "05d4bb9f",
    "outputId": "ad2081a1-8b3f-4d25-83d8-3811068d09a3",
    "ExecuteTime": {
     "end_time": "2023-12-11T04:48:03.857514200Z",
     "start_time": "2023-12-11T04:48:03.645439300Z"
    }
   },
   "outputs": [
    {
     "data": {
      "text/plain": "array([55,  5, 63, 64,  8,  1, 65,  9, 29, 79, 81,  3, 89, 83, 85, 86, 67,\n       28, 56, 80, 88,  0,  6, 12, 13, 42, 47, 53, 54, 68, 30, 26, 58, 59,\n       44, 31, 38, 24, 49, 82, 61, 37, 46, 45, 87, 33, 17, 32, 15,  4, 71,\n       35,  7, 51, 14, 40, 22, 27, 23, 16, 10, 18, 70, 50, 34, 20, 90, 77,\n       21, 73, 74, 41, 60, 72, 57, 11, 52, 66, 25, 69, 39, 84, 75, 19, 36,\n        2, 48, 78, 62, 76, 43])"
     },
     "execution_count": 120,
     "metadata": {},
     "output_type": "execute_result"
    }
   ],
   "source": [
    "#label encoding\n",
    "from sklearn.preprocessing import LabelEncoder\n",
    "\n",
    "# Create a LabelEncoder instance\n",
    "label_encoder = LabelEncoder()\n",
    "\n",
    "# Encode the \"city\" column\n",
    "data['city'] = label_encoder.fit_transform(data['city'])\n",
    "data['job_title'] = label_encoder.fit_transform(data['job_title'])\n",
    "data['city'].unique()\n"
   ]
  },
  {
   "cell_type": "code",
   "execution_count": 121,
   "id": "5f5d5278",
   "metadata": {
    "execution": {
     "iopub.execute_input": "2023-10-31T02:05:47.807848Z",
     "iopub.status.busy": "2023-10-31T02:05:47.807344Z",
     "iopub.status.idle": "2023-10-31T02:05:47.816583Z",
     "shell.execute_reply": "2023-10-31T02:05:47.815247Z"
    },
    "papermill": {
     "duration": 0.0346,
     "end_time": "2023-10-31T02:05:47.819473",
     "exception": false,
     "start_time": "2023-10-31T02:05:47.784873",
     "status": "completed"
    },
    "tags": [],
    "colab": {
     "base_uri": "https://localhost:8080/"
    },
    "id": "5f5d5278",
    "outputId": "3cbd0b03-c414-4552-f665-7918684c3b73",
    "ExecuteTime": {
     "end_time": "2023-12-11T04:48:03.857514200Z",
     "start_time": "2023-12-11T04:48:03.661231900Z"
    }
   },
   "outputs": [],
   "source": [
    "import pickle\n",
    "#label encoding done\n",
    "data['job_title'].unique()\n",
    "# Get the job column\n",
    "job = data[\"job_title\"]\n",
    "city = data[\"city\"]\n",
    "\n",
    "# Save the job column to a pickle file\n",
    "with open(\"job_encoder.pkl\", \"wb\") as f:\n",
    "    pickle.dump(job, f)\n",
    "with open(\"city_encoder.pkl\", \"wb\") as f:\n",
    "    pickle.dump(city, f)    "
   ]
  },
  {
   "cell_type": "code",
   "execution_count": 122,
   "outputs": [],
   "source": [
    "# Get the names of the features to be removed\n",
    "features_to_remove = [\"job_title\", \"regular_ex\", \"bloodpressure\"]\n",
    "\n",
    "# Remove the features from the dataset\n",
    "data = data.drop(features_to_remove, axis=1)"
   ],
   "metadata": {
    "collapsed": false,
    "ExecuteTime": {
     "end_time": "2023-12-11T04:48:03.857514200Z",
     "start_time": "2023-12-11T04:48:03.675851200Z"
    }
   },
   "id": "fbb3e9a4eee4566c"
  },
  {
   "cell_type": "code",
   "execution_count": 123,
   "id": "6585d1b2",
   "metadata": {
    "execution": {
     "iopub.execute_input": "2023-10-31T02:05:47.863639Z",
     "iopub.status.busy": "2023-10-31T02:05:47.863120Z",
     "iopub.status.idle": "2023-10-31T02:05:47.880097Z",
     "shell.execute_reply": "2023-10-31T02:05:47.878084Z"
    },
    "papermill": {
     "duration": 0.042847,
     "end_time": "2023-10-31T02:05:47.883330",
     "exception": false,
     "start_time": "2023-10-31T02:05:47.840483",
     "status": "completed"
    },
    "tags": [],
    "colab": {
     "base_uri": "https://localhost:8080/"
    },
    "id": "6585d1b2",
    "outputId": "6e69220f-a0fd-4650-853e-a51f56fff57c",
    "ExecuteTime": {
     "end_time": "2023-12-11T04:48:03.857514200Z",
     "start_time": "2023-12-11T04:48:03.680323900Z"
    }
   },
   "outputs": [
    {
     "name": "stdout",
     "output_type": "stream",
     "text": [
      "<class 'pandas.core.frame.DataFrame'>\n",
      "RangeIndex: 15000 entries, 0 to 14999\n",
      "Data columns (total 10 columns):\n",
      " #   Column               Non-Null Count  Dtype  \n",
      "---  ------               --------------  -----  \n",
      " 0   age                  15000 non-null  float64\n",
      " 1   sex                  15000 non-null  int64  \n",
      " 2   weight               15000 non-null  int64  \n",
      " 3   bmi                  15000 non-null  float64\n",
      " 4   hereditary_diseases  15000 non-null  int64  \n",
      " 5   no_of_dependents     15000 non-null  int64  \n",
      " 6   smoker               15000 non-null  int64  \n",
      " 7   city                 15000 non-null  int32  \n",
      " 8   diabetes             15000 non-null  int64  \n",
      " 9   claim                15000 non-null  float64\n",
      "dtypes: float64(3), int32(1), int64(6)\n",
      "memory usage: 1.1 MB\n"
     ]
    }
   ],
   "source": [
    "data.info()\n",
    "#data is preproccessed according to our requirement\n"
   ]
  },
  {
   "cell_type": "markdown",
   "id": "62083a0d",
   "metadata": {
    "papermill": {
     "duration": 0.020837,
     "end_time": "2023-10-31T02:05:47.924996",
     "exception": false,
     "start_time": "2023-10-31T02:05:47.904159",
     "status": "completed"
    },
    "tags": [],
    "id": "62083a0d"
   },
   "source": [
    "## Selecting Columns for Features and Target\n"
   ]
  },
  {
   "cell_type": "code",
   "execution_count": 124,
   "id": "53468089",
   "metadata": {
    "execution": {
     "iopub.execute_input": "2023-10-31T02:05:47.968275Z",
     "iopub.status.busy": "2023-10-31T02:05:47.967760Z",
     "iopub.status.idle": "2023-10-31T02:05:47.976951Z",
     "shell.execute_reply": "2023-10-31T02:05:47.975469Z"
    },
    "papermill": {
     "duration": 0.034154,
     "end_time": "2023-10-31T02:05:47.979646",
     "exception": false,
     "start_time": "2023-10-31T02:05:47.945492",
     "status": "completed"
    },
    "tags": [],
    "id": "53468089",
    "ExecuteTime": {
     "end_time": "2023-12-11T04:48:03.857514200Z",
     "start_time": "2023-12-11T04:48:03.696039800Z"
    }
   },
   "outputs": [],
   "source": [
    "# setting feature and target columns\n",
    "x=data.drop(['claim'],axis=1)\n",
    "y=data['claim']"
   ]
  },
  {
   "cell_type": "code",
   "execution_count": 125,
   "id": "a2bb3eeb",
   "metadata": {
    "execution": {
     "iopub.execute_input": "2023-10-31T02:05:48.025579Z",
     "iopub.status.busy": "2023-10-31T02:05:48.025085Z",
     "iopub.status.idle": "2023-10-31T02:05:48.045360Z",
     "shell.execute_reply": "2023-10-31T02:05:48.044423Z"
    },
    "papermill": {
     "duration": 0.047672,
     "end_time": "2023-10-31T02:05:48.047868",
     "exception": false,
     "start_time": "2023-10-31T02:05:48.000196",
     "status": "completed"
    },
    "tags": [],
    "colab": {
     "base_uri": "https://localhost:8080/",
     "height": 206
    },
    "id": "a2bb3eeb",
    "outputId": "6c58b1b8-e4c3-434f-a2e7-7583ce24d1f2",
    "ExecuteTime": {
     "end_time": "2023-12-11T04:48:03.876525600Z",
     "start_time": "2023-12-11T04:48:03.714096600Z"
    }
   },
   "outputs": [
    {
     "data": {
      "text/plain": "    age  sex  weight   bmi  hereditary_diseases  no_of_dependents  smoker  \\\n0  60.0    1      64  24.3                    0                 1       0   \n1  49.0    0      75  22.6                    0                 1       0   \n2  32.0    0      64  17.8                    1                 2       1   \n3  61.0    0      53  36.4                    0                 1       1   \n4  19.0    0      50  20.6                    0                 0       0   \n\n   city  diabetes  \n0    55         0  \n1     5         1  \n2    63         1  \n3    64         1  \n4     8         1  ",
      "text/html": "<div>\n<style scoped>\n    .dataframe tbody tr th:only-of-type {\n        vertical-align: middle;\n    }\n\n    .dataframe tbody tr th {\n        vertical-align: top;\n    }\n\n    .dataframe thead th {\n        text-align: right;\n    }\n</style>\n<table border=\"1\" class=\"dataframe\">\n  <thead>\n    <tr style=\"text-align: right;\">\n      <th></th>\n      <th>age</th>\n      <th>sex</th>\n      <th>weight</th>\n      <th>bmi</th>\n      <th>hereditary_diseases</th>\n      <th>no_of_dependents</th>\n      <th>smoker</th>\n      <th>city</th>\n      <th>diabetes</th>\n    </tr>\n  </thead>\n  <tbody>\n    <tr>\n      <th>0</th>\n      <td>60.0</td>\n      <td>1</td>\n      <td>64</td>\n      <td>24.3</td>\n      <td>0</td>\n      <td>1</td>\n      <td>0</td>\n      <td>55</td>\n      <td>0</td>\n    </tr>\n    <tr>\n      <th>1</th>\n      <td>49.0</td>\n      <td>0</td>\n      <td>75</td>\n      <td>22.6</td>\n      <td>0</td>\n      <td>1</td>\n      <td>0</td>\n      <td>5</td>\n      <td>1</td>\n    </tr>\n    <tr>\n      <th>2</th>\n      <td>32.0</td>\n      <td>0</td>\n      <td>64</td>\n      <td>17.8</td>\n      <td>1</td>\n      <td>2</td>\n      <td>1</td>\n      <td>63</td>\n      <td>1</td>\n    </tr>\n    <tr>\n      <th>3</th>\n      <td>61.0</td>\n      <td>0</td>\n      <td>53</td>\n      <td>36.4</td>\n      <td>0</td>\n      <td>1</td>\n      <td>1</td>\n      <td>64</td>\n      <td>1</td>\n    </tr>\n    <tr>\n      <th>4</th>\n      <td>19.0</td>\n      <td>0</td>\n      <td>50</td>\n      <td>20.6</td>\n      <td>0</td>\n      <td>0</td>\n      <td>0</td>\n      <td>8</td>\n      <td>1</td>\n    </tr>\n  </tbody>\n</table>\n</div>"
     },
     "execution_count": 125,
     "metadata": {},
     "output_type": "execute_result"
    }
   ],
   "source": [
    "# x is for features\n",
    "x.head()"
   ]
  },
  {
   "cell_type": "code",
   "execution_count": 126,
   "id": "6955675a",
   "metadata": {
    "execution": {
     "iopub.execute_input": "2023-10-31T02:05:48.092873Z",
     "iopub.status.busy": "2023-10-31T02:05:48.092289Z",
     "iopub.status.idle": "2023-10-31T02:05:48.102039Z",
     "shell.execute_reply": "2023-10-31T02:05:48.101019Z"
    },
    "papermill": {
     "duration": 0.035112,
     "end_time": "2023-10-31T02:05:48.104345",
     "exception": false,
     "start_time": "2023-10-31T02:05:48.069233",
     "status": "completed"
    },
    "tags": [],
    "colab": {
     "base_uri": "https://localhost:8080/"
    },
    "id": "6955675a",
    "outputId": "52b9526d-5038-4d6d-e2a3-89024700981f",
    "ExecuteTime": {
     "end_time": "2023-12-11T04:48:03.876525600Z",
     "start_time": "2023-12-11T04:48:03.729990600Z"
    }
   },
   "outputs": [
    {
     "data": {
      "text/plain": "0    13112.6\n1     9567.0\n2    32734.2\n3    48517.6\n4     1731.7\nName: claim, dtype: float64"
     },
     "execution_count": 126,
     "metadata": {},
     "output_type": "execute_result"
    }
   ],
   "source": [
    "# y is target column\n",
    "y.head()"
   ]
  },
  {
   "cell_type": "markdown",
   "id": "3d02041b",
   "metadata": {
    "papermill": {
     "duration": 0.021132,
     "end_time": "2023-10-31T02:05:48.147181",
     "exception": false,
     "start_time": "2023-10-31T02:05:48.126049",
     "status": "completed"
    },
    "tags": [],
    "id": "3d02041b"
   },
   "source": [
    "# Correlation Matrix: Visualize the correlation between numerical features."
   ]
  },
  {
   "cell_type": "code",
   "execution_count": 127,
   "id": "73e117eb",
   "metadata": {
    "execution": {
     "iopub.execute_input": "2023-10-31T02:05:48.191771Z",
     "iopub.status.busy": "2023-10-31T02:05:48.191251Z",
     "iopub.status.idle": "2023-10-31T02:05:49.730448Z",
     "shell.execute_reply": "2023-10-31T02:05:49.729537Z"
    },
    "papermill": {
     "duration": 1.566048,
     "end_time": "2023-10-31T02:05:49.734468",
     "exception": false,
     "start_time": "2023-10-31T02:05:48.168420",
     "status": "completed"
    },
    "tags": [],
    "colab": {
     "base_uri": "https://localhost:8080/",
     "height": 823
    },
    "id": "73e117eb",
    "outputId": "ec6dd0a9-f8ee-4a64-9c26-2074f6d541aa",
    "ExecuteTime": {
     "end_time": "2023-12-11T04:48:04.249646700Z",
     "start_time": "2023-12-11T04:48:03.750264500Z"
    }
   },
   "outputs": [
    {
     "data": {
      "text/plain": "<Figure size 1000x800 with 2 Axes>",
      "image/png": "[encoded data removed]"
     },
     "metadata": {},
     "output_type": "display_data"
    }
   ],
   "source": [
    "import seaborn as sns\n",
    "import matplotlib.pyplot as plt\n",
    "import numpy as np\n",
    "\n",
    "# Create a custom colormap with modified color intensity\n",
    "custom_cmap = sns.color_palette(['#ffffcc', '#a1dab4', '#41b6c4', '#225ea8'])\n",
    "correlation_matrix = data.corr()\n",
    "\n",
    "# Create a heatmap with the custom colormap\n",
    "plt.figure(figsize=(10, 8))\n",
    "sns.heatmap(correlation_matrix, annot=True, cmap=custom_cmap)\n",
    "plt.title('Correlation Matrix')\n",
    "plt.show()\n",
    "\n"
   ]
  },
  {
   "cell_type": "markdown",
   "id": "bf0cd312",
   "metadata": {
    "papermill": {
     "duration": 0.03364,
     "end_time": "2023-10-31T02:05:49.795877",
     "exception": false,
     "start_time": "2023-10-31T02:05:49.762237",
     "status": "completed"
    },
    "tags": [],
    "id": "bf0cd312"
   },
   "source": [
    "## Train-Test Split\n"
   ]
  },
  {
   "cell_type": "code",
   "execution_count": 128,
   "id": "390ace7a",
   "metadata": {
    "execution": {
     "iopub.execute_input": "2023-10-31T02:05:49.846235Z",
     "iopub.status.busy": "2023-10-31T02:05:49.845629Z",
     "iopub.status.idle": "2023-10-31T02:05:49.860368Z",
     "shell.execute_reply": "2023-10-31T02:05:49.859104Z"
    },
    "papermill": {
     "duration": 0.044109,
     "end_time": "2023-10-31T02:05:49.863531",
     "exception": false,
     "start_time": "2023-10-31T02:05:49.819422",
     "status": "completed"
    },
    "tags": [],
    "id": "390ace7a",
    "ExecuteTime": {
     "end_time": "2023-12-11T04:48:04.249646700Z",
     "start_time": "2023-12-11T04:48:04.232521200Z"
    }
   },
   "outputs": [],
   "source": [
    "# Split the dataset into training and testing sets\n",
    "from sklearn.model_selection import train_test_split\n",
    "\n",
    "X_train, X_test, y_train, y_test = train_test_split(x, y, test_size=0.2, random_state=42)\n"
   ]
  },
  {
   "cell_type": "code",
   "execution_count": 129,
   "id": "90129692",
   "metadata": {
    "execution": {
     "iopub.execute_input": "2023-10-31T02:05:49.916187Z",
     "iopub.status.busy": "2023-10-31T02:05:49.915207Z",
     "iopub.status.idle": "2023-10-31T02:05:49.922799Z",
     "shell.execute_reply": "2023-10-31T02:05:49.921870Z"
    },
    "papermill": {
     "duration": 0.038178,
     "end_time": "2023-10-31T02:05:49.925408",
     "exception": false,
     "start_time": "2023-10-31T02:05:49.887230",
     "status": "completed"
    },
    "tags": [],
    "colab": {
     "base_uri": "https://localhost:8080/"
    },
    "id": "90129692",
    "outputId": "9974700e-9d30-4e23-8101-7d359a0038d8",
    "ExecuteTime": {
     "end_time": "2023-12-11T04:48:04.249646700Z",
     "start_time": "2023-12-11T04:48:04.239137700Z"
    }
   },
   "outputs": [
    {
     "data": {
      "text/plain": "13112.6"
     },
     "execution_count": 129,
     "metadata": {},
     "output_type": "execute_result"
    }
   ],
   "source": [
    "y_train[0]"
   ]
  },
  {
   "cell_type": "markdown",
   "id": "ec5f27c1",
   "metadata": {
    "papermill": {
     "duration": 0.023842,
     "end_time": "2023-10-31T02:05:49.973189",
     "exception": false,
     "start_time": "2023-10-31T02:05:49.949347",
     "status": "completed"
    },
    "tags": [],
    "id": "ec5f27c1"
   },
   "source": [
    "## Importing Machine Learning Algorithms from scikit-learn (Sklearn)\n"
   ]
  },
  {
   "cell_type": "code",
   "execution_count": 130,
   "id": "a828d5f5",
   "metadata": {
    "execution": {
     "iopub.execute_input": "2023-10-31T02:05:50.023722Z",
     "iopub.status.busy": "2023-10-31T02:05:50.022769Z",
     "iopub.status.idle": "2023-10-31T02:05:50.254247Z",
     "shell.execute_reply": "2023-10-31T02:05:50.252746Z"
    },
    "papermill": {
     "duration": 0.260647,
     "end_time": "2023-10-31T02:05:50.257627",
     "exception": false,
     "start_time": "2023-10-31T02:05:49.996980",
     "status": "completed"
    },
    "tags": [],
    "id": "a828d5f5",
    "ExecuteTime": {
     "end_time": "2023-12-11T04:48:04.286564300Z",
     "start_time": "2023-12-11T04:48:04.249646700Z"
    }
   },
   "outputs": [],
   "source": [
    "# Import machine learning algorithms from scikit-learn (Sklearn)\n",
    "from sklearn.linear_model import LinearRegression  # Import Linear Regression for regression tasks\n",
    "from sklearn.ensemble import RandomForestRegressor  # Import RandomForestClassifier for regression tasks\n",
    "from sklearn.svm import SVR  # Import Support Vector Regression for regression tasks\n",
    "from sklearn.ensemble import GradientBoostingRegressor  # Import GradientBoostingRegressor for regression tasks"
   ]
  },
  {
   "cell_type": "code",
   "execution_count": 131,
   "id": "7f3ece66",
   "metadata": {
    "execution": {
     "iopub.execute_input": "2023-10-31T02:05:50.306706Z",
     "iopub.status.busy": "2023-10-31T02:05:50.306138Z",
     "iopub.status.idle": "2023-10-31T02:05:50.370480Z",
     "shell.execute_reply": "2023-10-31T02:05:50.368763Z"
    },
    "papermill": {
     "duration": 0.092053,
     "end_time": "2023-10-31T02:05:50.373206",
     "exception": false,
     "start_time": "2023-10-31T02:05:50.281153",
     "status": "completed"
    },
    "tags": [],
    "colab": {
     "base_uri": "https://localhost:8080/",
     "height": 74
    },
    "id": "7f3ece66",
    "outputId": "2812a83e-1bf8-490a-83e1-14393ad305a2",
    "ExecuteTime": {
     "end_time": "2023-12-11T04:48:04.484731200Z",
     "start_time": "2023-12-11T04:48:04.260753400Z"
    }
   },
   "outputs": [
    {
     "data": {
      "text/plain": "LinearRegression()",
      "text/html": "<style>#sk-container-id-9 {color: black;}#sk-container-id-9 pre{padding: 0;}#sk-container-id-9 div.sk-toggleable {background-color: white;}#sk-container-id-9 label.sk-toggleable__label {cursor: pointer;display: block;width: 100%;margin-bottom: 0;padding: 0.3em;box-sizing: border-box;text-align: center;}#sk-container-id-9 label.sk-toggleable__label-arrow:before {content: \"▸\";float: left;margin-right: 0.25em;color: #696969;}#sk-container-id-9 label.sk-toggleable__label-arrow:hover:before {color: black;}#sk-container-id-9 div.sk-estimator:hover label.sk-toggleable__label-arrow:before {color: black;}#sk-container-id-9 div.sk-toggleable__content {max-height: 0;max-width: 0;overflow: hidden;text-align: left;background-color: #f0f8ff;}#sk-container-id-9 div.sk-toggleable__content pre {margin: 0.2em;color: black;border-radius: 0.25em;background-color: #f0f8ff;}#sk-container-id-9 input.sk-toggleable__control:checked~div.sk-toggleable__content {max-height: 200px;max-width: 100%;overflow: auto;}#sk-container-id-9 input.sk-toggleable__control:checked~label.sk-toggleable__label-arrow:before {content: \"▾\";}#sk-container-id-9 div.sk-estimator input.sk-toggleable__control:checked~label.sk-toggleable__label {background-color: #d4ebff;}#sk-container-id-9 div.sk-label input.sk-toggleable__control:checked~label.sk-toggleable__label {background-color: #d4ebff;}#sk-container-id-9 input.sk-hidden--visually {border: 0;clip: rect(1px 1px 1px 1px);clip: rect(1px, 1px, 1px, 1px);height: 1px;margin: -1px;overflow: hidden;padding: 0;position: absolute;width: 1px;}#sk-container-id-9 div.sk-estimator {font-family: monospace;background-color: #f0f8ff;border: 1px dotted black;border-radius: 0.25em;box-sizing: border-box;margin-bottom: 0.5em;}#sk-container-id-9 div.sk-estimator:hover {background-color: #d4ebff;}#sk-container-id-9 div.sk-parallel-item::after {content: \"\";width: 100%;border-bottom: 1px solid gray;flex-grow: 1;}#sk-container-id-9 div.sk-label:hover label.sk-toggleable__label {background-color: #d4ebff;}#sk-container-id-9 div.sk-serial::before {content: \"\";position: absolute;border-left: 1px solid gray;box-sizing: border-box;top: 0;bottom: 0;left: 50%;z-index: 0;}#sk-container-id-9 div.sk-serial {display: flex;flex-direction: column;align-items: center;background-color: white;padding-right: 0.2em;padding-left: 0.2em;position: relative;}#sk-container-id-9 div.sk-item {position: relative;z-index: 1;}#sk-container-id-9 div.sk-parallel {display: flex;align-items: stretch;justify-content: center;background-color: white;position: relative;}#sk-container-id-9 div.sk-item::before, #sk-container-id-9 div.sk-parallel-item::before {content: \"\";position: absolute;border-left: 1px solid gray;box-sizing: border-box;top: 0;bottom: 0;left: 50%;z-index: -1;}#sk-container-id-9 div.sk-parallel-item {display: flex;flex-direction: column;z-index: 1;position: relative;background-color: white;}#sk-container-id-9 div.sk-parallel-item:first-child::after {align-self: flex-end;width: 50%;}#sk-container-id-9 div.sk-parallel-item:last-child::after {align-self: flex-start;width: 50%;}#sk-container-id-9 div.sk-parallel-item:only-child::after {width: 0;}#sk-container-id-9 div.sk-dashed-wrapped {border: 1px dashed gray;margin: 0 0.4em 0.5em 0.4em;box-sizing: border-box;padding-bottom: 0.4em;background-color: white;}#sk-container-id-9 div.sk-label label {font-family: monospace;font-weight: bold;display: inline-block;line-height: 1.2em;}#sk-container-id-9 div.sk-label-container {text-align: center;}#sk-container-id-9 div.sk-container {/* jupyter's `normalize.less` sets `[hidden] { display: none; }` but bootstrap.min.css set `[hidden] { display: none !important; }` so we also need the `!important` here to be able to override the default hidden behavior on the sphinx rendered scikit-learn.org. See: https://github.com/scikit-learn/scikit-learn/issues/21755 */display: inline-block !important;position: relative;}#sk-container-id-9 div.sk-text-repr-fallback {display: none;}</style><div id=\"sk-container-id-9\" class=\"sk-top-container\"><div class=\"sk-text-repr-fallback\"><pre>LinearRegression()</pre><b>In a Jupyter environment, please rerun this cell to show the HTML representation or trust the notebook. <br />On GitHub, the HTML representation is unable to render, please try loading this page with nbviewer.org.</b></div><div class=\"sk-container\" hidden><div class=\"sk-item\"><div class=\"sk-estimator sk-toggleable\"><input class=\"sk-toggleable__control sk-hidden--visually\" id=\"sk-estimator-id-9\" type=\"checkbox\" checked><label for=\"sk-estimator-id-9\" class=\"sk-toggleable__label sk-toggleable__label-arrow\">LinearRegression</label><div class=\"sk-toggleable__content\"><pre>LinearRegression()</pre></div></div></div></div></div>"
     },
     "execution_count": 131,
     "metadata": {},
     "output_type": "execute_result"
    }
   ],
   "source": [
    "# Initialize and train a Linear Regression model\n",
    "lr = LinearRegression()\n",
    "lr.fit(X_train, y_train)\n"
   ]
  },
  {
   "cell_type": "code",
   "execution_count": 132,
   "id": "f2c68448",
   "metadata": {
    "execution": {
     "iopub.execute_input": "2023-10-31T02:05:50.472203Z",
     "iopub.status.busy": "2023-10-31T02:05:50.471254Z",
     "iopub.status.idle": "2023-10-31T02:05:58.834641Z",
     "shell.execute_reply": "2023-10-31T02:05:58.833547Z"
    },
    "papermill": {
     "duration": 8.416405,
     "end_time": "2023-10-31T02:05:58.837160",
     "exception": false,
     "start_time": "2023-10-31T02:05:50.420755",
     "status": "completed"
    },
    "tags": [],
    "colab": {
     "base_uri": "https://localhost:8080/",
     "height": 74
    },
    "id": "f2c68448",
    "outputId": "d17fe033-df3b-4fee-e365-b0e6d8714979",
    "ExecuteTime": {
     "end_time": "2023-12-11T04:48:09.734019700Z",
     "start_time": "2023-12-11T04:48:04.286564300Z"
    }
   },
   "outputs": [
    {
     "data": {
      "text/plain": "SVR()",
      "text/html": "<style>#sk-container-id-10 {color: black;}#sk-container-id-10 pre{padding: 0;}#sk-container-id-10 div.sk-toggleable {background-color: white;}#sk-container-id-10 label.sk-toggleable__label {cursor: pointer;display: block;width: 100%;margin-bottom: 0;padding: 0.3em;box-sizing: border-box;text-align: center;}#sk-container-id-10 label.sk-toggleable__label-arrow:before {content: \"▸\";float: left;margin-right: 0.25em;color: #696969;}#sk-container-id-10 label.sk-toggleable__label-arrow:hover:before {color: black;}#sk-container-id-10 div.sk-estimator:hover label.sk-toggleable__label-arrow:before {color: black;}#sk-container-id-10 div.sk-toggleable__content {max-height: 0;max-width: 0;overflow: hidden;text-align: left;background-color: #f0f8ff;}#sk-container-id-10 div.sk-toggleable__content pre {margin: 0.2em;color: black;border-radius: 0.25em;background-color: #f0f8ff;}#sk-container-id-10 input.sk-toggleable__control:checked~div.sk-toggleable__content {max-height: 200px;max-width: 100%;overflow: auto;}#sk-container-id-10 input.sk-toggleable__control:checked~label.sk-toggleable__label-arrow:before {content: \"▾\";}#sk-container-id-10 div.sk-estimator input.sk-toggleable__control:checked~label.sk-toggleable__label {background-color: #d4ebff;}#sk-container-id-10 div.sk-label input.sk-toggleable__control:checked~label.sk-toggleable__label {background-color: #d4ebff;}#sk-container-id-10 input.sk-hidden--visually {border: 0;clip: rect(1px 1px 1px 1px);clip: rect(1px, 1px, 1px, 1px);height: 1px;margin: -1px;overflow: hidden;padding: 0;position: absolute;width: 1px;}#sk-container-id-10 div.sk-estimator {font-family: monospace;background-color: #f0f8ff;border: 1px dotted black;border-radius: 0.25em;box-sizing: border-box;margin-bottom: 0.5em;}#sk-container-id-10 div.sk-estimator:hover {background-color: #d4ebff;}#sk-container-id-10 div.sk-parallel-item::after {content: \"\";width: 100%;border-bottom: 1px solid gray;flex-grow: 1;}#sk-container-id-10 div.sk-label:hover label.sk-toggleable__label {background-color: #d4ebff;}#sk-container-id-10 div.sk-serial::before {content: \"\";position: absolute;border-left: 1px solid gray;box-sizing: border-box;top: 0;bottom: 0;left: 50%;z-index: 0;}#sk-container-id-10 div.sk-serial {display: flex;flex-direction: column;align-items: center;background-color: white;padding-right: 0.2em;padding-left: 0.2em;position: relative;}#sk-container-id-10 div.sk-item {position: relative;z-index: 1;}#sk-container-id-10 div.sk-parallel {display: flex;align-items: stretch;justify-content: center;background-color: white;position: relative;}#sk-container-id-10 div.sk-item::before, #sk-container-id-10 div.sk-parallel-item::before {content: \"\";position: absolute;border-left: 1px solid gray;box-sizing: border-box;top: 0;bottom: 0;left: 50%;z-index: -1;}#sk-container-id-10 div.sk-parallel-item {display: flex;flex-direction: column;z-index: 1;position: relative;background-color: white;}#sk-container-id-10 div.sk-parallel-item:first-child::after {align-self: flex-end;width: 50%;}#sk-container-id-10 div.sk-parallel-item:last-child::after {align-self: flex-start;width: 50%;}#sk-container-id-10 div.sk-parallel-item:only-child::after {width: 0;}#sk-container-id-10 div.sk-dashed-wrapped {border: 1px dashed gray;margin: 0 0.4em 0.5em 0.4em;box-sizing: border-box;padding-bottom: 0.4em;background-color: white;}#sk-container-id-10 div.sk-label label {font-family: monospace;font-weight: bold;display: inline-block;line-height: 1.2em;}#sk-container-id-10 div.sk-label-container {text-align: center;}#sk-container-id-10 div.sk-container {/* jupyter's `normalize.less` sets `[hidden] { display: none; }` but bootstrap.min.css set `[hidden] { display: none !important; }` so we also need the `!important` here to be able to override the default hidden behavior on the sphinx rendered scikit-learn.org. See: https://github.com/scikit-learn/scikit-learn/issues/21755 */display: inline-block !important;position: relative;}#sk-container-id-10 div.sk-text-repr-fallback {display: none;}</style><div id=\"sk-container-id-10\" class=\"sk-top-container\"><div class=\"sk-text-repr-fallback\"><pre>SVR()</pre><b>In a Jupyter environment, please rerun this cell to show the HTML representation or trust the notebook. <br />On GitHub, the HTML representation is unable to render, please try loading this page with nbviewer.org.</b></div><div class=\"sk-container\" hidden><div class=\"sk-item\"><div class=\"sk-estimator sk-toggleable\"><input class=\"sk-toggleable__control sk-hidden--visually\" id=\"sk-estimator-id-10\" type=\"checkbox\" checked><label for=\"sk-estimator-id-10\" class=\"sk-toggleable__label sk-toggleable__label-arrow\">SVR</label><div class=\"sk-toggleable__content\"><pre>SVR()</pre></div></div></div></div></div>"
     },
     "execution_count": 132,
     "metadata": {},
     "output_type": "execute_result"
    }
   ],
   "source": [
    "# Initialize and train a Support Vector Regression (SVR) model\n",
    "svm = SVR()\n",
    "svm.fit(X_train, y_train)\n"
   ]
  },
  {
   "cell_type": "code",
   "execution_count": 133,
   "id": "ebcbdace",
   "metadata": {
    "execution": {
     "iopub.execute_input": "2023-10-31T02:05:58.889010Z",
     "iopub.status.busy": "2023-10-31T02:05:58.888095Z",
     "iopub.status.idle": "2023-10-31T02:06:02.592983Z",
     "shell.execute_reply": "2023-10-31T02:06:02.591585Z"
    },
    "papermill": {
     "duration": 3.733963,
     "end_time": "2023-10-31T02:06:02.595830",
     "exception": false,
     "start_time": "2023-10-31T02:05:58.861867",
     "status": "completed"
    },
    "tags": [],
    "colab": {
     "base_uri": "https://localhost:8080/",
     "height": 74
    },
    "id": "ebcbdace",
    "outputId": "854ff9a9-a931-4fef-bb26-3e2ba0a36e26",
    "ExecuteTime": {
     "end_time": "2023-12-11T04:48:15.032382300Z",
     "start_time": "2023-12-11T04:48:09.722471Z"
    }
   },
   "outputs": [
    {
     "data": {
      "text/plain": "RandomForestRegressor()",
      "text/html": "<style>#sk-container-id-11 {color: black;}#sk-container-id-11 pre{padding: 0;}#sk-container-id-11 div.sk-toggleable {background-color: white;}#sk-container-id-11 label.sk-toggleable__label {cursor: pointer;display: block;width: 100%;margin-bottom: 0;padding: 0.3em;box-sizing: border-box;text-align: center;}#sk-container-id-11 label.sk-toggleable__label-arrow:before {content: \"▸\";float: left;margin-right: 0.25em;color: #696969;}#sk-container-id-11 label.sk-toggleable__label-arrow:hover:before {color: black;}#sk-container-id-11 div.sk-estimator:hover label.sk-toggleable__label-arrow:before {color: black;}#sk-container-id-11 div.sk-toggleable__content {max-height: 0;max-width: 0;overflow: hidden;text-align: left;background-color: #f0f8ff;}#sk-container-id-11 div.sk-toggleable__content pre {margin: 0.2em;color: black;border-radius: 0.25em;background-color: #f0f8ff;}#sk-container-id-11 input.sk-toggleable__control:checked~div.sk-toggleable__content {max-height: 200px;max-width: 100%;overflow: auto;}#sk-container-id-11 input.sk-toggleable__control:checked~label.sk-toggleable__label-arrow:before {content: \"▾\";}#sk-container-id-11 div.sk-estimator input.sk-toggleable__control:checked~label.sk-toggleable__label {background-color: #d4ebff;}#sk-container-id-11 div.sk-label input.sk-toggleable__control:checked~label.sk-toggleable__label {background-color: #d4ebff;}#sk-container-id-11 input.sk-hidden--visually {border: 0;clip: rect(1px 1px 1px 1px);clip: rect(1px, 1px, 1px, 1px);height: 1px;margin: -1px;overflow: hidden;padding: 0;position: absolute;width: 1px;}#sk-container-id-11 div.sk-estimator {font-family: monospace;background-color: #f0f8ff;border: 1px dotted black;border-radius: 0.25em;box-sizing: border-box;margin-bottom: 0.5em;}#sk-container-id-11 div.sk-estimator:hover {background-color: #d4ebff;}#sk-container-id-11 div.sk-parallel-item::after {content: \"\";width: 100%;border-bottom: 1px solid gray;flex-grow: 1;}#sk-container-id-11 div.sk-label:hover label.sk-toggleable__label {background-color: #d4ebff;}#sk-container-id-11 div.sk-serial::before {content: \"\";position: absolute;border-left: 1px solid gray;box-sizing: border-box;top: 0;bottom: 0;left: 50%;z-index: 0;}#sk-container-id-11 div.sk-serial {display: flex;flex-direction: column;align-items: center;background-color: white;padding-right: 0.2em;padding-left: 0.2em;position: relative;}#sk-container-id-11 div.sk-item {position: relative;z-index: 1;}#sk-container-id-11 div.sk-parallel {display: flex;align-items: stretch;justify-content: center;background-color: white;position: relative;}#sk-container-id-11 div.sk-item::before, #sk-container-id-11 div.sk-parallel-item::before {content: \"\";position: absolute;border-left: 1px solid gray;box-sizing: border-box;top: 0;bottom: 0;left: 50%;z-index: -1;}#sk-container-id-11 div.sk-parallel-item {display: flex;flex-direction: column;z-index: 1;position: relative;background-color: white;}#sk-container-id-11 div.sk-parallel-item:first-child::after {align-self: flex-end;width: 50%;}#sk-container-id-11 div.sk-parallel-item:last-child::after {align-self: flex-start;width: 50%;}#sk-container-id-11 div.sk-parallel-item:only-child::after {width: 0;}#sk-container-id-11 div.sk-dashed-wrapped {border: 1px dashed gray;margin: 0 0.4em 0.5em 0.4em;box-sizing: border-box;padding-bottom: 0.4em;background-color: white;}#sk-container-id-11 div.sk-label label {font-family: monospace;font-weight: bold;display: inline-block;line-height: 1.2em;}#sk-container-id-11 div.sk-label-container {text-align: center;}#sk-container-id-11 div.sk-container {/* jupyter's `normalize.less` sets `[hidden] { display: none; }` but bootstrap.min.css set `[hidden] { display: none !important; }` so we also need the `!important` here to be able to override the default hidden behavior on the sphinx rendered scikit-learn.org. See: https://github.com/scikit-learn/scikit-learn/issues/21755 */display: inline-block !important;position: relative;}#sk-container-id-11 div.sk-text-repr-fallback {display: none;}</style><div id=\"sk-container-id-11\" class=\"sk-top-container\"><div class=\"sk-text-repr-fallback\"><pre>RandomForestRegressor()</pre><b>In a Jupyter environment, please rerun this cell to show the HTML representation or trust the notebook. <br />On GitHub, the HTML representation is unable to render, please try loading this page with nbviewer.org.</b></div><div class=\"sk-container\" hidden><div class=\"sk-item\"><div class=\"sk-estimator sk-toggleable\"><input class=\"sk-toggleable__control sk-hidden--visually\" id=\"sk-estimator-id-11\" type=\"checkbox\" checked><label for=\"sk-estimator-id-11\" class=\"sk-toggleable__label sk-toggleable__label-arrow\">RandomForestRegressor</label><div class=\"sk-toggleable__content\"><pre>RandomForestRegressor()</pre></div></div></div></div></div>"
     },
     "execution_count": 133,
     "metadata": {},
     "output_type": "execute_result"
    }
   ],
   "source": [
    "# Initialize and train a Random Forest Regressor model\n",
    "rf = RandomForestRegressor()\n",
    "rf.fit(X_train, y_train)\n"
   ]
  },
  {
   "cell_type": "code",
   "execution_count": 134,
   "id": "dbf50026",
   "metadata": {
    "execution": {
     "iopub.execute_input": "2023-10-31T02:06:02.647310Z",
     "iopub.status.busy": "2023-10-31T02:06:02.646845Z",
     "iopub.status.idle": "2023-10-31T02:06:03.978890Z",
     "shell.execute_reply": "2023-10-31T02:06:03.977563Z"
    },
    "papermill": {
     "duration": 1.361436,
     "end_time": "2023-10-31T02:06:03.981777",
     "exception": false,
     "start_time": "2023-10-31T02:06:02.620341",
     "status": "completed"
    },
    "tags": [],
    "colab": {
     "base_uri": "https://localhost:8080/",
     "height": 74
    },
    "id": "dbf50026",
    "outputId": "7cba578a-8baa-4bca-f64b-44cf42391e89",
    "ExecuteTime": {
     "end_time": "2023-12-11T04:48:16.146511800Z",
     "start_time": "2023-12-11T04:48:15.032382300Z"
    }
   },
   "outputs": [
    {
     "data": {
      "text/plain": "GradientBoostingRegressor()",
      "text/html": "<style>#sk-container-id-12 {color: black;}#sk-container-id-12 pre{padding: 0;}#sk-container-id-12 div.sk-toggleable {background-color: white;}#sk-container-id-12 label.sk-toggleable__label {cursor: pointer;display: block;width: 100%;margin-bottom: 0;padding: 0.3em;box-sizing: border-box;text-align: center;}#sk-container-id-12 label.sk-toggleable__label-arrow:before {content: \"▸\";float: left;margin-right: 0.25em;color: #696969;}#sk-container-id-12 label.sk-toggleable__label-arrow:hover:before {color: black;}#sk-container-id-12 div.sk-estimator:hover label.sk-toggleable__label-arrow:before {color: black;}#sk-container-id-12 div.sk-toggleable__content {max-height: 0;max-width: 0;overflow: hidden;text-align: left;background-color: #f0f8ff;}#sk-container-id-12 div.sk-toggleable__content pre {margin: 0.2em;color: black;border-radius: 0.25em;background-color: #f0f8ff;}#sk-container-id-12 input.sk-toggleable__control:checked~div.sk-toggleable__content {max-height: 200px;max-width: 100%;overflow: auto;}#sk-container-id-12 input.sk-toggleable__control:checked~label.sk-toggleable__label-arrow:before {content: \"▾\";}#sk-container-id-12 div.sk-estimator input.sk-toggleable__control:checked~label.sk-toggleable__label {background-color: #d4ebff;}#sk-container-id-12 div.sk-label input.sk-toggleable__control:checked~label.sk-toggleable__label {background-color: #d4ebff;}#sk-container-id-12 input.sk-hidden--visually {border: 0;clip: rect(1px 1px 1px 1px);clip: rect(1px, 1px, 1px, 1px);height: 1px;margin: -1px;overflow: hidden;padding: 0;position: absolute;width: 1px;}#sk-container-id-12 div.sk-estimator {font-family: monospace;background-color: #f0f8ff;border: 1px dotted black;border-radius: 0.25em;box-sizing: border-box;margin-bottom: 0.5em;}#sk-container-id-12 div.sk-estimator:hover {background-color: #d4ebff;}#sk-container-id-12 div.sk-parallel-item::after {content: \"\";width: 100%;border-bottom: 1px solid gray;flex-grow: 1;}#sk-container-id-12 div.sk-label:hover label.sk-toggleable__label {background-color: #d4ebff;}#sk-container-id-12 div.sk-serial::before {content: \"\";position: absolute;border-left: 1px solid gray;box-sizing: border-box;top: 0;bottom: 0;left: 50%;z-index: 0;}#sk-container-id-12 div.sk-serial {display: flex;flex-direction: column;align-items: center;background-color: white;padding-right: 0.2em;padding-left: 0.2em;position: relative;}#sk-container-id-12 div.sk-item {position: relative;z-index: 1;}#sk-container-id-12 div.sk-parallel {display: flex;align-items: stretch;justify-content: center;background-color: white;position: relative;}#sk-container-id-12 div.sk-item::before, #sk-container-id-12 div.sk-parallel-item::before {content: \"\";position: absolute;border-left: 1px solid gray;box-sizing: border-box;top: 0;bottom: 0;left: 50%;z-index: -1;}#sk-container-id-12 div.sk-parallel-item {display: flex;flex-direction: column;z-index: 1;position: relative;background-color: white;}#sk-container-id-12 div.sk-parallel-item:first-child::after {align-self: flex-end;width: 50%;}#sk-container-id-12 div.sk-parallel-item:last-child::after {align-self: flex-start;width: 50%;}#sk-container-id-12 div.sk-parallel-item:only-child::after {width: 0;}#sk-container-id-12 div.sk-dashed-wrapped {border: 1px dashed gray;margin: 0 0.4em 0.5em 0.4em;box-sizing: border-box;padding-bottom: 0.4em;background-color: white;}#sk-container-id-12 div.sk-label label {font-family: monospace;font-weight: bold;display: inline-block;line-height: 1.2em;}#sk-container-id-12 div.sk-label-container {text-align: center;}#sk-container-id-12 div.sk-container {/* jupyter's `normalize.less` sets `[hidden] { display: none; }` but bootstrap.min.css set `[hidden] { display: none !important; }` so we also need the `!important` here to be able to override the default hidden behavior on the sphinx rendered scikit-learn.org. See: https://github.com/scikit-learn/scikit-learn/issues/21755 */display: inline-block !important;position: relative;}#sk-container-id-12 div.sk-text-repr-fallback {display: none;}</style><div id=\"sk-container-id-12\" class=\"sk-top-container\"><div class=\"sk-text-repr-fallback\"><pre>GradientBoostingRegressor()</pre><b>In a Jupyter environment, please rerun this cell to show the HTML representation or trust the notebook. <br />On GitHub, the HTML representation is unable to render, please try loading this page with nbviewer.org.</b></div><div class=\"sk-container\" hidden><div class=\"sk-item\"><div class=\"sk-estimator sk-toggleable\"><input class=\"sk-toggleable__control sk-hidden--visually\" id=\"sk-estimator-id-12\" type=\"checkbox\" checked><label for=\"sk-estimator-id-12\" class=\"sk-toggleable__label sk-toggleable__label-arrow\">GradientBoostingRegressor</label><div class=\"sk-toggleable__content\"><pre>GradientBoostingRegressor()</pre></div></div></div></div></div>"
     },
     "execution_count": 134,
     "metadata": {},
     "output_type": "execute_result"
    }
   ],
   "source": [
    "# Initialize and train a Gradient Boosting Regressor model\n",
    "gr = GradientBoostingRegressor()\n",
    "gr.fit(X_train, y_train)\n"
   ]
  },
  {
   "cell_type": "markdown",
   "id": "ab7be310",
   "metadata": {
    "papermill": {
     "duration": 0.025329,
     "end_time": "2023-10-31T02:06:04.032455",
     "exception": false,
     "start_time": "2023-10-31T02:06:04.007126",
     "status": "completed"
    },
    "tags": [],
    "id": "ab7be310"
   },
   "source": [
    "# Comparing the predictions from each model"
   ]
  },
  {
   "cell_type": "code",
   "execution_count": 135,
   "id": "c9ecccf5",
   "metadata": {
    "execution": {
     "iopub.execute_input": "2023-10-31T02:06:04.083954Z",
     "iopub.status.busy": "2023-10-31T02:06:04.083440Z",
     "iopub.status.idle": "2023-10-31T02:06:06.349328Z",
     "shell.execute_reply": "2023-10-31T02:06:06.347757Z"
    },
    "papermill": {
     "duration": 2.296602,
     "end_time": "2023-10-31T02:06:06.353429",
     "exception": false,
     "start_time": "2023-10-31T02:06:04.056827",
     "status": "completed"
    },
    "tags": [],
    "colab": {
     "base_uri": "https://localhost:8080/",
     "height": 423
    },
    "id": "c9ecccf5",
    "outputId": "e3bc326e-ee7a-425f-a21c-90a98a436281",
    "ExecuteTime": {
     "end_time": "2023-12-11T04:48:19.182360800Z",
     "start_time": "2023-12-11T04:48:16.146511800Z"
    }
   },
   "outputs": [
    {
     "data": {
      "text/plain": "        Actual            LR          SVR         RF            GR\n11499   8835.3  12314.438117  9467.573303   8835.300   9744.877789\n6475    2134.9   1440.395219  8873.753752   2074.000   2331.078462\n13167   5148.6   8056.409581  9086.672005   5148.600   5085.829087\n862    10704.5  12618.601573  9587.775569  10837.742  12223.971621\n5970    4260.7   5374.469706  9186.546010   4260.464   5487.012811\n...        ...           ...          ...        ...           ...\n6216   12032.3   9588.277781  9635.080662  12099.972  12884.259265\n3585   11658.4  12029.221227  9630.878196  11658.400  12213.091631\n10023  11085.6  13094.999030  9437.292730  11085.600  10830.843085\n14044   2166.7   3533.144513  8915.824726   2170.892   2699.017890\n12965   6184.3   7729.778595  9233.326844   6184.300   7640.031672\n\n[3000 rows x 5 columns]",
      "text/html": "<div>\n<style scoped>\n    .dataframe tbody tr th:only-of-type {\n        vertical-align: middle;\n    }\n\n    .dataframe tbody tr th {\n        vertical-align: top;\n    }\n\n    .dataframe thead th {\n        text-align: right;\n    }\n</style>\n<table border=\"1\" class=\"dataframe\">\n  <thead>\n    <tr style=\"text-align: right;\">\n      <th></th>\n      <th>Actual</th>\n      <th>LR</th>\n      <th>SVR</th>\n      <th>RF</th>\n      <th>GR</th>\n    </tr>\n  </thead>\n  <tbody>\n    <tr>\n      <th>11499</th>\n      <td>8835.3</td>\n      <td>12314.438117</td>\n      <td>9467.573303</td>\n      <td>8835.300</td>\n      <td>9744.877789</td>\n    </tr>\n    <tr>\n      <th>6475</th>\n      <td>2134.9</td>\n      <td>1440.395219</td>\n      <td>8873.753752</td>\n      <td>2074.000</td>\n      <td>2331.078462</td>\n    </tr>\n    <tr>\n      <th>13167</th>\n      <td>5148.6</td>\n      <td>8056.409581</td>\n      <td>9086.672005</td>\n      <td>5148.600</td>\n      <td>5085.829087</td>\n    </tr>\n    <tr>\n      <th>862</th>\n      <td>10704.5</td>\n      <td>12618.601573</td>\n      <td>9587.775569</td>\n      <td>10837.742</td>\n      <td>12223.971621</td>\n    </tr>\n    <tr>\n      <th>5970</th>\n      <td>4260.7</td>\n      <td>5374.469706</td>\n      <td>9186.546010</td>\n      <td>4260.464</td>\n      <td>5487.012811</td>\n    </tr>\n    <tr>\n      <th>...</th>\n      <td>...</td>\n      <td>...</td>\n      <td>...</td>\n      <td>...</td>\n      <td>...</td>\n    </tr>\n    <tr>\n      <th>6216</th>\n      <td>12032.3</td>\n      <td>9588.277781</td>\n      <td>9635.080662</td>\n      <td>12099.972</td>\n      <td>12884.259265</td>\n    </tr>\n    <tr>\n      <th>3585</th>\n      <td>11658.4</td>\n      <td>12029.221227</td>\n      <td>9630.878196</td>\n      <td>11658.400</td>\n      <td>12213.091631</td>\n    </tr>\n    <tr>\n      <th>10023</th>\n      <td>11085.6</td>\n      <td>13094.999030</td>\n      <td>9437.292730</td>\n      <td>11085.600</td>\n      <td>10830.843085</td>\n    </tr>\n    <tr>\n      <th>14044</th>\n      <td>2166.7</td>\n      <td>3533.144513</td>\n      <td>8915.824726</td>\n      <td>2170.892</td>\n      <td>2699.017890</td>\n    </tr>\n    <tr>\n      <th>12965</th>\n      <td>6184.3</td>\n      <td>7729.778595</td>\n      <td>9233.326844</td>\n      <td>6184.300</td>\n      <td>7640.031672</td>\n    </tr>\n  </tbody>\n</table>\n<p>3000 rows × 5 columns</p>\n</div>"
     },
     "execution_count": 135,
     "metadata": {},
     "output_type": "execute_result"
    }
   ],
   "source": [
    "# Make predictions using the Linear Regression (LR) model on the test data\n",
    "y_pred1 = lr.predict(X_test)\n",
    "\n",
    "# Make predictions using the Support Vector Regression (SVR) model on the test data\n",
    "y_pred2 = svm.predict(X_test)\n",
    "\n",
    "# Make predictions using the Random Forest Regressor (RF) model on the test data\n",
    "y_pred3 = rf.predict(X_test)\n",
    "\n",
    "# Make predictions using the Gradient Boosting Regressor (GR) model on the test data\n",
    "y_pred4 = gr.predict(X_test)\n",
    "\n",
    "# DataFrame to compare actual and predicted values\n",
    "df1 = pd.DataFrame({'Actual': y_test, 'LR': y_pred1, 'SVR': y_pred2, 'RF': y_pred3, 'GR': y_pred4})\n",
    "df1\n"
   ]
  },
  {
   "cell_type": "markdown",
   "id": "fe5fa7c9",
   "metadata": {
    "papermill": {
     "duration": 0.023154,
     "end_time": "2023-10-31T02:06:06.400335",
     "exception": false,
     "start_time": "2023-10-31T02:06:06.377181",
     "status": "completed"
    },
    "tags": [],
    "id": "fe5fa7c9"
   },
   "source": [
    "# visual comparision among output of each model"
   ]
  },
  {
   "cell_type": "code",
   "execution_count": 136,
   "id": "6a339200",
   "metadata": {
    "execution": {
     "iopub.execute_input": "2023-10-31T02:06:06.448983Z",
     "iopub.status.busy": "2023-10-31T02:06:06.448535Z",
     "iopub.status.idle": "2023-10-31T02:06:06.454357Z",
     "shell.execute_reply": "2023-10-31T02:06:06.453049Z"
    },
    "papermill": {
     "duration": 0.033158,
     "end_time": "2023-10-31T02:06:06.456977",
     "exception": false,
     "start_time": "2023-10-31T02:06:06.423819",
     "status": "completed"
    },
    "tags": [],
    "id": "6a339200",
    "ExecuteTime": {
     "end_time": "2023-12-11T04:48:19.182360800Z",
     "start_time": "2023-12-11T04:48:19.162953300Z"
    }
   },
   "outputs": [],
   "source": [
    "import matplotlib.pyplot as plt"
   ]
  },
  {
   "cell_type": "code",
   "execution_count": 137,
   "id": "112bdde7",
   "metadata": {
    "execution": {
     "iopub.execute_input": "2023-10-31T02:06:06.506565Z",
     "iopub.status.busy": "2023-10-31T02:06:06.506036Z",
     "iopub.status.idle": "2023-10-31T02:06:07.534751Z",
     "shell.execute_reply": "2023-10-31T02:06:07.533439Z"
    },
    "papermill": {
     "duration": 1.058166,
     "end_time": "2023-10-31T02:06:07.538748",
     "exception": false,
     "start_time": "2023-10-31T02:06:06.480582",
     "status": "completed"
    },
    "tags": [],
    "colab": {
     "base_uri": "https://localhost:8080/",
     "height": 541
    },
    "id": "112bdde7",
    "outputId": "dfdc4a9b-70af-47df-e0b8-0804f9b19eda",
    "ExecuteTime": {
     "end_time": "2023-12-11T04:48:20.248727300Z",
     "start_time": "2023-12-11T04:48:19.176833600Z"
    }
   },
   "outputs": [
    {
     "data": {
      "text/plain": "<Figure size 640x480 with 4 Axes>",
      "image/png": "[encoded data removed]"
     },
     "metadata": {},
     "output_type": "display_data"
    }
   ],
   "source": [
    "plt.subplot(221)\n",
    "plt.plot(df1['Actual'].iloc[0:11], label='Actual')\n",
    "plt.plot(df1['LR'].iloc[0:11], label=\"LR\")\n",
    "plt.legend()\n",
    "plt.title('Linear Regression Predictions')\n",
    "\n",
    "plt.subplot(222)\n",
    "plt.plot(df1['Actual'].iloc[0:11], label='Actual')\n",
    "plt.plot(df1['SVR'].iloc[0:11], label=\"SVR\")\n",
    "plt.legend()\n",
    "plt.title('Support Vector Regression Predictions')\n",
    "\n",
    "plt.subplot(223)\n",
    "plt.plot(df1['Actual'].iloc[0:11], label='Actual')\n",
    "plt.plot(df1['RF'].iloc[0:11], label=\"RF\")\n",
    "plt.legend()\n",
    "plt.title('Random Forest Predictions')\n",
    "\n",
    "plt.subplot(224)\n",
    "plt.plot(df1['Actual'].iloc[0:11], label='Actual')\n",
    "plt.plot(df1['GR'].iloc[0:11], label=\"GR\")\n",
    "plt.title('Gradient Boosting Predictions')\n",
    "\n",
    "plt.tight_layout()\n",
    "\n",
    "# Display the legend outside the subplots\n",
    "plt.legend(loc='upper center', bbox_to_anchor=(0.5, -0.15), fancybox=True, shadow=True)\n",
    "\n",
    "# Show the entire plot\n",
    "plt.show()\n"
   ]
  },
  {
   "cell_type": "markdown",
   "id": "330927f2",
   "metadata": {
    "papermill": {
     "duration": 0.026449,
     "end_time": "2023-10-31T02:06:07.593940",
     "exception": false,
     "start_time": "2023-10-31T02:06:07.567491",
     "status": "completed"
    },
    "tags": [],
    "id": "330927f2"
   },
   "source": [
    "random forest regressor is giving most accurate results"
   ]
  },
  {
   "cell_type": "code",
   "execution_count": 138,
   "id": "9bb9ca00",
   "metadata": {
    "execution": {
     "iopub.execute_input": "2023-10-31T02:06:07.649895Z",
     "iopub.status.busy": "2023-10-31T02:06:07.649344Z",
     "iopub.status.idle": "2023-10-31T02:06:07.654875Z",
     "shell.execute_reply": "2023-10-31T02:06:07.653604Z"
    },
    "papermill": {
     "duration": 0.036803,
     "end_time": "2023-10-31T02:06:07.657414",
     "exception": false,
     "start_time": "2023-10-31T02:06:07.620611",
     "status": "completed"
    },
    "tags": [],
    "id": "9bb9ca00",
    "ExecuteTime": {
     "end_time": "2023-12-11T04:48:20.265157900Z",
     "start_time": "2023-12-11T04:48:20.248220900Z"
    }
   },
   "outputs": [],
   "source": [
    "from sklearn import metrics"
   ]
  },
  {
   "cell_type": "code",
   "execution_count": 139,
   "id": "4d83bee9",
   "metadata": {
    "execution": {
     "iopub.execute_input": "2023-10-31T02:06:07.715610Z",
     "iopub.status.busy": "2023-10-31T02:06:07.715100Z",
     "iopub.status.idle": "2023-10-31T02:06:07.726719Z",
     "shell.execute_reply": "2023-10-31T02:06:07.725393Z"
    },
    "papermill": {
     "duration": 0.044748,
     "end_time": "2023-10-31T02:06:07.730173",
     "exception": false,
     "start_time": "2023-10-31T02:06:07.685425",
     "status": "completed"
    },
    "tags": [],
    "id": "4d83bee9",
    "ExecuteTime": {
     "end_time": "2023-12-11T04:48:20.410657700Z",
     "start_time": "2023-12-11T04:48:20.248727300Z"
    }
   },
   "outputs": [],
   "source": [
    "# Calculate and store the R-squared (R2) score for the Linear Regression (LR) model\n",
    "lr_r2_score = metrics.r2_score(y_test, y_pred1)\n",
    "\n",
    "# Calculate and store the R-squared (R2) score for the Support Vector Regression (SVR) model\n",
    "svm_r2_score = metrics.r2_score(y_test, y_pred2)\n",
    "\n",
    "# Calculate and store the R-squared (R2) score for the Random Forest Regressor (RF) model\n",
    "rf_r2_score = metrics.r2_score(y_test, y_pred3)\n",
    "\n",
    "# Calculate and store the R-squared (R2) score for the Gradient Boosting Regressor (GR) model\n",
    "gr_r2_score = metrics.r2_score(y_test, y_pred4)\n"
   ]
  },
  {
   "cell_type": "code",
   "execution_count": 140,
   "id": "f01690c6",
   "metadata": {
    "execution": {
     "iopub.execute_input": "2023-10-31T02:06:07.786501Z",
     "iopub.status.busy": "2023-10-31T02:06:07.786026Z",
     "iopub.status.idle": "2023-10-31T02:06:07.793395Z",
     "shell.execute_reply": "2023-10-31T02:06:07.792026Z"
    },
    "papermill": {
     "duration": 0.039,
     "end_time": "2023-10-31T02:06:07.796417",
     "exception": false,
     "start_time": "2023-10-31T02:06:07.757417",
     "status": "completed"
    },
    "tags": [],
    "colab": {
     "base_uri": "https://localhost:8080/"
    },
    "id": "f01690c6",
    "outputId": "d6fa2ed0-9651-46d8-846a-dd52dc6b192e",
    "ExecuteTime": {
     "end_time": "2023-12-11T04:48:20.410657700Z",
     "start_time": "2023-12-11T04:48:20.340906600Z"
    }
   },
   "outputs": [
    {
     "name": "stdout",
     "output_type": "stream",
     "text": [
      "R-squared Score for Linear Regression (LR): 0.7477037031373586\n",
      "R-squared Score for Support Vector Regression (SVR): -0.10230168445642196\n",
      "R-squared Score for Random Forest Regressor (RF): 0.9652957239751014\n",
      "R-squared Score for Gradient Boosting Regressor (GR): 0.8542856897264474\n"
     ]
    }
   ],
   "source": [
    "# Print R-squared (R2) scores for each model\n",
    "print(\"R-squared Score for Linear Regression (LR):\", lr_r2_score)\n",
    "print(\"R-squared Score for Support Vector Regression (SVR):\", svm_r2_score)\n",
    "print(\"R-squared Score for Random Forest Regressor (RF):\", rf_r2_score)\n",
    "print(\"R-squared Score for Gradient Boosting Regressor (GR):\", gr_r2_score)\n"
   ]
  },
  {
   "cell_type": "markdown",
   "id": "1d2a5b6f",
   "metadata": {
    "papermill": {
     "duration": 0.026843,
     "end_time": "2023-10-31T02:06:07.850995",
     "exception": false,
     "start_time": "2023-10-31T02:06:07.824152",
     "status": "completed"
    },
    "tags": [],
    "id": "1d2a5b6f"
   },
   "source": [
    "#### Model Performance\n",
    "\n",
    "Among the evaluated machine learning models, the Random Forest Regressor (RF) emerges as the top performer. With an exceptionally high R-squared (R2) score of 0.9664, it excels in explaining approximately 96.64% of the variance in health insurance claim amounts. This outstanding performance positions the Random Forest Regressor as the most effective model for predicting health insurance claims in our analysis.\n"
   ]
  },
  {
   "cell_type": "code",
   "execution_count": 141,
   "id": "2bc6b58b",
   "metadata": {
    "execution": {
     "iopub.execute_input": "2023-10-31T02:06:07.908314Z",
     "iopub.status.busy": "2023-10-31T02:06:07.907832Z",
     "iopub.status.idle": "2023-10-31T02:06:07.918223Z",
     "shell.execute_reply": "2023-10-31T02:06:07.917078Z"
    },
    "papermill": {
     "duration": 0.043431,
     "end_time": "2023-10-31T02:06:07.921186",
     "exception": false,
     "start_time": "2023-10-31T02:06:07.877755",
     "status": "completed"
    },
    "tags": [],
    "id": "2bc6b58b",
    "ExecuteTime": {
     "end_time": "2023-12-11T04:48:20.410657700Z",
     "start_time": "2023-12-11T04:48:20.343705800Z"
    }
   },
   "outputs": [],
   "source": [
    "# Calculate and store the Mean Absolute Error (MAE) for the Linear Regression (LR) model\n",
    "mae_lr = metrics.mean_absolute_error(y_test, y_pred1)\n",
    "\n",
    "# Calculate and store the Mean Absolute Error (MAE) for the Support Vector Regression (SVR) model\n",
    "mae_svr = metrics.mean_absolute_error(y_test, y_pred2)\n",
    "\n",
    "# Calculate and store the Mean Absolute Error (MAE) for the Random Forest Regressor (RF) model\n",
    "mae_rf = metrics.mean_absolute_error(y_test, y_pred3)\n",
    "\n",
    "# Calculate and store the Mean Absolute Error (MAE) for the Gradient Boosting Regressor (GR) model\n",
    "mae_gr = metrics.mean_absolute_error(y_test, y_pred4)\n"
   ]
  },
  {
   "cell_type": "code",
   "execution_count": 142,
   "id": "faeb1169",
   "metadata": {
    "execution": {
     "iopub.execute_input": "2023-10-31T02:06:07.978585Z",
     "iopub.status.busy": "2023-10-31T02:06:07.977614Z",
     "iopub.status.idle": "2023-10-31T02:06:07.985859Z",
     "shell.execute_reply": "2023-10-31T02:06:07.984447Z"
    },
    "papermill": {
     "duration": 0.039467,
     "end_time": "2023-10-31T02:06:07.988437",
     "exception": false,
     "start_time": "2023-10-31T02:06:07.948970",
     "status": "completed"
    },
    "tags": [],
    "colab": {
     "base_uri": "https://localhost:8080/"
    },
    "id": "faeb1169",
    "outputId": "5f4e6bfb-a73d-4899-c2c4-da74cdcd3aaf",
    "ExecuteTime": {
     "end_time": "2023-12-11T04:48:20.410657700Z",
     "start_time": "2023-12-11T04:48:20.364278400Z"
    }
   },
   "outputs": [
    {
     "name": "stdout",
     "output_type": "stream",
     "text": [
      "MAE for Linear Regression (LR): 4062.5560692171603\n",
      "MAE for Support Vector Regression (SVR): 8245.977547435217\n",
      "MAE for Random Forest Regressor (RF): 503.2954191333403\n",
      "MAE for Gradient Boosting Regressor (GR): 2744.7624043101414\n"
     ]
    }
   ],
   "source": [
    "# Print the Mean Absolute Error (MAE) for each model\n",
    "print(\"MAE for Linear Regression (LR):\", mae_lr)\n",
    "print(\"MAE for Support Vector Regression (SVR):\", mae_svr)\n",
    "print(\"MAE for Random Forest Regressor (RF):\", mae_rf)\n",
    "print(\"MAE for Gradient Boosting Regressor (GR):\", mae_gr)"
   ]
  },
  {
   "cell_type": "markdown",
   "id": "86a89103",
   "metadata": {
    "papermill": {
     "duration": 0.026959,
     "end_time": "2023-10-31T02:06:08.043408",
     "exception": false,
     "start_time": "2023-10-31T02:06:08.016449",
     "status": "completed"
    },
    "tags": [],
    "id": "86a89103"
   },
   "source": [
    "##### Model Performance Based on MAE\n",
    "\n",
    "The Random Forest Regressor (RF) stands out as the best-performing model, with the lowest MAE, signifying its accuracy in predicting health insurance claim amounts.\n"
   ]
  },
  {
   "cell_type": "markdown",
   "id": "a2e3637d",
   "metadata": {
    "papermill": {
     "duration": 0.026589,
     "end_time": "2023-10-31T02:06:08.097493",
     "exception": false,
     "start_time": "2023-10-31T02:06:08.070904",
     "status": "completed"
    },
    "tags": [],
    "id": "a2e3637d"
   },
   "source": [
    "## prediction on random new customer"
   ]
  },
  {
   "cell_type": "code",
   "execution_count": 143,
   "id": "c9ea9da4",
   "metadata": {
    "execution": {
     "iopub.execute_input": "2023-10-31T02:06:08.157538Z",
     "iopub.status.busy": "2023-10-31T02:06:08.156324Z",
     "iopub.status.idle": "2023-10-31T02:06:08.173685Z",
     "shell.execute_reply": "2023-10-31T02:06:08.172740Z"
    },
    "papermill": {
     "duration": 0.050631,
     "end_time": "2023-10-31T02:06:08.176194",
     "exception": false,
     "start_time": "2023-10-31T02:06:08.125563",
     "status": "completed"
    },
    "tags": [],
    "colab": {
     "base_uri": "https://localhost:8080/",
     "height": 80
    },
    "id": "c9ea9da4",
    "outputId": "29586f88-8c99-438b-a98a-0adb6a7de2de",
    "ExecuteTime": {
     "end_time": "2023-12-11T04:48:20.410657700Z",
     "start_time": "2023-12-11T04:48:20.372859400Z"
    }
   },
   "outputs": [
    {
     "data": {
      "text/plain": "    age  sex  weight   bmi  hereditary_diseases  no_of_dependents  smoker  \\\n0  60.0    1      64  24.3                    0                 1       0   \n\n   city  diabetes  \n0    55         0  ",
      "text/html": "<div>\n<style scoped>\n    .dataframe tbody tr th:only-of-type {\n        vertical-align: middle;\n    }\n\n    .dataframe tbody tr th {\n        vertical-align: top;\n    }\n\n    .dataframe thead th {\n        text-align: right;\n    }\n</style>\n<table border=\"1\" class=\"dataframe\">\n  <thead>\n    <tr style=\"text-align: right;\">\n      <th></th>\n      <th>age</th>\n      <th>sex</th>\n      <th>weight</th>\n      <th>bmi</th>\n      <th>hereditary_diseases</th>\n      <th>no_of_dependents</th>\n      <th>smoker</th>\n      <th>city</th>\n      <th>diabetes</th>\n    </tr>\n  </thead>\n  <tbody>\n    <tr>\n      <th>0</th>\n      <td>60.0</td>\n      <td>1</td>\n      <td>64</td>\n      <td>24.3</td>\n      <td>0</td>\n      <td>1</td>\n      <td>0</td>\n      <td>55</td>\n      <td>0</td>\n    </tr>\n  </tbody>\n</table>\n</div>"
     },
     "execution_count": 143,
     "metadata": {},
     "output_type": "execute_result"
    }
   ],
   "source": [
    "new_df = pd.DataFrame(X_train,index=[0])\n",
    "new_df"
   ]
  },
  {
   "cell_type": "code",
   "execution_count": 144,
   "id": "59f77858",
   "metadata": {
    "execution": {
     "iopub.execute_input": "2023-10-31T02:06:08.234218Z",
     "iopub.status.busy": "2023-10-31T02:06:08.233394Z",
     "iopub.status.idle": "2023-10-31T02:06:08.243446Z",
     "shell.execute_reply": "2023-10-31T02:06:08.242173Z"
    },
    "papermill": {
     "duration": 0.042263,
     "end_time": "2023-10-31T02:06:08.246355",
     "exception": false,
     "start_time": "2023-10-31T02:06:08.204092",
     "status": "completed"
    },
    "tags": [],
    "colab": {
     "base_uri": "https://localhost:8080/"
    },
    "id": "59f77858",
    "outputId": "fbac670f-7a92-4b9c-d6ae-830734ef174a",
    "ExecuteTime": {
     "end_time": "2023-12-11T04:48:20.410657700Z",
     "start_time": "2023-12-11T04:48:20.384726500Z"
    }
   },
   "outputs": [
    {
     "name": "stdout",
     "output_type": "stream",
     "text": [
      "Medical Insurance cost for New Customer is: 15742.62647327518\n"
     ]
    }
   ],
   "source": [
    "# Use the trained Gradient Boosting Regressor (GR) model to make predictions for a new customer\n",
    "new_pred = gr.predict(new_df)\n",
    "\n",
    "# Print the predicted medical insurance cost for the new customer\n",
    "print(\"Medical Insurance cost for New Customer is:\", new_pred[0])\n"
   ]
  },
  {
   "cell_type": "code",
   "execution_count": 145,
   "id": "20e915bf",
   "metadata": {
    "execution": {
     "iopub.execute_input": "2023-10-31T02:06:08.304122Z",
     "iopub.status.busy": "2023-10-31T02:06:08.303156Z",
     "iopub.status.idle": "2023-10-31T02:06:08.319287Z",
     "shell.execute_reply": "2023-10-31T02:06:08.317889Z"
    },
    "papermill": {
     "duration": 0.048824,
     "end_time": "2023-10-31T02:06:08.322344",
     "exception": false,
     "start_time": "2023-10-31T02:06:08.273520",
     "status": "completed"
    },
    "tags": [],
    "colab": {
     "base_uri": "https://localhost:8080/"
    },
    "id": "20e915bf",
    "outputId": "299c9bc0-351f-4234-d671-f3ba2b2b20e2",
    "ExecuteTime": {
     "end_time": "2023-12-11T04:48:20.474116200Z",
     "start_time": "2023-12-11T04:48:20.397437Z"
    }
   },
   "outputs": [
    {
     "name": "stdout",
     "output_type": "stream",
     "text": [
      "Medical Insurance cost for New Customer (Random Forest Regressor) is: 13112.600000000008\n"
     ]
    }
   ],
   "source": [
    "# Use the trained Random Forest Regressor (RF) model to make predictions for a new customer\n",
    "new_pred_rf = rf.predict(new_df)\n",
    "\n",
    "# Print the predicted medical insurance cost for the new customer using Random Forest Regressor\n",
    "print(\"Medical Insurance cost for New Customer (Random Forest Regressor) is:\", new_pred_rf[0])"
   ]
  },
  {
   "cell_type": "code",
   "execution_count": 146,
   "id": "97a3f8f6",
   "metadata": {
    "execution": {
     "iopub.execute_input": "2023-10-31T02:06:08.379679Z",
     "iopub.status.busy": "2023-10-31T02:06:08.379135Z",
     "iopub.status.idle": "2023-10-31T02:06:08.386918Z",
     "shell.execute_reply": "2023-10-31T02:06:08.386008Z"
    },
    "papermill": {
     "duration": 0.039224,
     "end_time": "2023-10-31T02:06:08.389157",
     "exception": false,
     "start_time": "2023-10-31T02:06:08.349933",
     "status": "completed"
    },
    "tags": [],
    "colab": {
     "base_uri": "https://localhost:8080/"
    },
    "id": "97a3f8f6",
    "outputId": "f6be4c91-017c-4c9b-93f5-e7ed91757fbb",
    "ExecuteTime": {
     "end_time": "2023-12-11T04:48:20.474116200Z",
     "start_time": "2023-12-11T04:48:20.410657700Z"
    }
   },
   "outputs": [
    {
     "data": {
      "text/plain": "13112.6"
     },
     "execution_count": 146,
     "metadata": {},
     "output_type": "execute_result"
    }
   ],
   "source": [
    "y_train[0]\n",
    "#Random Forest Regressor (RF) model is predicting more accurately"
   ]
  },
  {
   "cell_type": "code",
   "execution_count": 147,
   "id": "155b9a48",
   "metadata": {
    "execution": {
     "iopub.execute_input": "2023-10-31T02:06:08.447592Z",
     "iopub.status.busy": "2023-10-31T02:06:08.446195Z",
     "iopub.status.idle": "2023-10-31T02:06:08.463933Z",
     "shell.execute_reply": "2023-10-31T02:06:08.462418Z"
    },
    "papermill": {
     "duration": 0.050377,
     "end_time": "2023-10-31T02:06:08.467022",
     "exception": false,
     "start_time": "2023-10-31T02:06:08.416645",
     "status": "completed"
    },
    "tags": [],
    "colab": {
     "base_uri": "https://localhost:8080/"
    },
    "id": "155b9a48",
    "outputId": "3eada6b9-14e5-4d67-edf6-f525833e7f5b",
    "ExecuteTime": {
     "end_time": "2023-12-11T04:48:20.474116200Z",
     "start_time": "2023-12-11T04:48:20.426717900Z"
    }
   },
   "outputs": [
    {
     "name": "stdout",
     "output_type": "stream",
     "text": [
      "    age  sex  weight   bmi  hereditary_diseases  no_of_dependents  smoker  \\\n",
      "0  50.0    0      55  24.3                    0                 1       0   \n",
      "\n",
      "   city  diabetes  \n",
      "0    55         0  \n"
     ]
    }
   ],
   "source": [
    "\n",
    "# Create a dictionary with the sample data\n",
    "sample_data = {\n",
    "    'age': [50.0],\n",
    "    'sex': [0],\n",
    "    'weight': [55],\n",
    "    'bmi': [24.3],\n",
    "    'hereditary_diseases': [0],\n",
    "    'no_of_dependents': [1],\n",
    "    'smoker': [0],\n",
    "    'city': [55],\n",
    "#    'bloodpressure': [72],\n",
    "    'diabetes': [0],\n",
    "#    'regular_ex': [0],\n",
    "#    'job_title': [2]\n",
    "}\n",
    "\n",
    "# Create a DataFrame from the sample data\n",
    "sample_df = pd.DataFrame(sample_data)\n",
    "\n",
    "# Display the sample DataFrame\n",
    "print(sample_df)\n"
   ]
  },
  {
   "cell_type": "code",
   "execution_count": 148,
   "id": "26652e2e",
   "metadata": {
    "execution": {
     "iopub.execute_input": "2023-10-31T02:06:08.526592Z",
     "iopub.status.busy": "2023-10-31T02:06:08.525589Z",
     "iopub.status.idle": "2023-10-31T02:06:08.535763Z",
     "shell.execute_reply": "2023-10-31T02:06:08.534452Z"
    },
    "papermill": {
     "duration": 0.043195,
     "end_time": "2023-10-31T02:06:08.538792",
     "exception": false,
     "start_time": "2023-10-31T02:06:08.495597",
     "status": "completed"
    },
    "tags": [],
    "colab": {
     "base_uri": "https://localhost:8080/"
    },
    "id": "26652e2e",
    "outputId": "d0bf9c31-2624-4fde-c658-2cc111584cd6",
    "ExecuteTime": {
     "end_time": "2023-12-11T04:48:20.610573Z",
     "start_time": "2023-12-11T04:48:20.433862900Z"
    }
   },
   "outputs": [
    {
     "name": "stdout",
     "output_type": "stream",
     "text": [
      "Medical Insurance cost for New Customer is: 11079.12806810249\n"
     ]
    }
   ],
   "source": [
    "# Use the trained Gradient Boosting Regressor (GR) model to make predictions for a new customer\n",
    "new_pred = gr.predict(sample_df)\n",
    "\n",
    "# Print the predicted medical insurance cost for the new customer\n",
    "print(\"Medical Insurance cost for New Customer is:\", new_pred[0])\n"
   ]
  },
  {
   "cell_type": "code",
   "execution_count": 149,
   "id": "2b98a9d6",
   "metadata": {
    "execution": {
     "iopub.execute_input": "2023-10-31T02:06:08.598599Z",
     "iopub.status.busy": "2023-10-31T02:06:08.597472Z",
     "iopub.status.idle": "2023-10-31T02:06:08.616459Z",
     "shell.execute_reply": "2023-10-31T02:06:08.614586Z"
    },
    "papermill": {
     "duration": 0.052204,
     "end_time": "2023-10-31T02:06:08.620153",
     "exception": false,
     "start_time": "2023-10-31T02:06:08.567949",
     "status": "completed"
    },
    "tags": [],
    "colab": {
     "base_uri": "https://localhost:8080/"
    },
    "id": "2b98a9d6",
    "outputId": "5fef0924-ae63-43fd-e1f8-1b08f5b61c54",
    "ExecuteTime": {
     "end_time": "2023-12-11T04:48:20.610573Z",
     "start_time": "2023-12-11T04:48:20.455158900Z"
    }
   },
   "outputs": [
    {
     "name": "stdout",
     "output_type": "stream",
     "text": [
      "Medical Insurance cost for New Customer (Random Forest Regressor) is: 12552.957000000002\n"
     ]
    }
   ],
   "source": [
    "# Use the trained Random Forest Regressor (RF) model to make predictions for a new customer\n",
    "new_pred_rf = rf.predict(sample_df)\n",
    "\n",
    "# Print the predicted medical insurance cost for the new customer using Random Forest Regressor\n",
    "print(\"Medical Insurance cost for New Customer (Random Forest Regressor) is:\", new_pred_rf[0])\n"
   ]
  },
  {
   "cell_type": "code",
   "execution_count": 149,
   "outputs": [],
   "source": [],
   "metadata": {
    "collapsed": false,
    "ExecuteTime": {
     "end_time": "2023-12-11T04:48:20.610573Z",
     "start_time": "2023-12-11T04:48:20.466070500Z"
    }
   },
   "id": "c9372a60f6ca12f1"
  }
 ],
 "metadata": {
  "kernelspec": {
   "display_name": "Python 3",
   "language": "python",
   "name": "python3"
  },
  "language_info": {
   "codemirror_mode": {
    "name": "ipython",
    "version": 3
   },
   "file_extension": ".py",
   "mimetype": "text/x-python",
   "name": "python",
   "nbconvert_exporter": "python",
   "pygments_lexer": "ipython3",
   "version": "3.10.12"
  },
  "papermill": {
   "default_parameters": {},
   "duration": 29.186236,
   "end_time": "2023-10-31T02:06:09.430307",
   "environment_variables": {},
   "exception": null,
   "input_path": "__notebook__.ipynb",
   "output_path": "__notebook__.ipynb",
   "parameters": {},
   "start_time": "2023-10-31T02:05:40.244071",
   "version": "2.4.0"
  },
  "colab": {
   "provenance": []
  }
 },
 "nbformat": 4,
 "nbformat_minor": 5
}
