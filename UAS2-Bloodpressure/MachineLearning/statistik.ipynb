{
 "cells": [
  {
   "cell_type": "code",
   "execution_count": 37,
   "outputs": [],
   "source": [
    "import pandas as pd\n",
    "from sklearn.feature_selection import RFE\n",
    "data = pd.read_csv(\"train.csv\")"
   ],
   "metadata": {
    "collapsed": false,
    "ExecuteTime": {
     "end_time": "2023-12-09T21:35:51.034892700Z",
     "start_time": "2023-12-09T21:35:51.009494500Z"
    }
   },
   "id": "313b1ec81cf7d79"
  },
  {
   "cell_type": "code",
   "execution_count": 38,
   "outputs": [],
   "source": [
    "from sklearn.preprocessing import LabelEncoder\n",
    "\n",
    "#values mapped to integers (0 and 1)\n",
    "data['sex']=data['sex'].map({'female':0,'male':1})\n",
    "data[\"hereditary_diseases\"]=data[\"hereditary_diseases\"].map({'NoDisease':0, 'Epilepsy':1, 'EyeDisease':2, 'Alzheimer':3, 'Arthritis':4,\n",
    "       'HeartDisease':5, 'Diabetes':6, 'Cancer':7, 'High BP':8, 'Obesity':9})\n",
    "\n",
    "# Create a LabelEncoder instance\n",
    "label_encoder = LabelEncoder()\n",
    "\n",
    "# Encode the \"city\" column\n",
    "data['city'] = label_encoder.fit_transform(data['city'])\n",
    "data['job_title'] = label_encoder.fit_transform(data['job_title'])"
   ],
   "metadata": {
    "collapsed": false,
    "ExecuteTime": {
     "end_time": "2023-12-09T21:35:51.349463800Z",
     "start_time": "2023-12-09T21:35:51.339856100Z"
    }
   },
   "id": "d6f1747d960bd3f6"
  },
  {
   "cell_type": "code",
   "execution_count": 39,
   "outputs": [
    {
     "data": {
      "text/plain": "age                    0\nsex                    0\nweight                 0\nbmi                    0\nhereditary_diseases    0\nno_of_dependents       0\nsmoker                 0\ncity                   0\nbloodpressure          0\ndiabetes               0\nregular_ex             0\njob_title              0\nclaim                  0\ndtype: int64"
     },
     "execution_count": 39,
     "metadata": {},
     "output_type": "execute_result"
    }
   ],
   "source": [
    "\n",
    "from sklearn.impute import SimpleImputer\n",
    "\n",
    "# Initialize the SimpleImputer with the strategy 'mean'\n",
    "imputer = SimpleImputer(strategy='mean')\n",
    "\n",
    "# Specify the columns with missing values that we want to impute\n",
    "columns_with_missing_values = ['age', 'bmi']\n",
    "\n",
    "# Apply the imputer to fill missing values with the mean\n",
    "data[columns_with_missing_values] = imputer.fit_transform(data[columns_with_missing_values])\n",
    "\n",
    "data.isnull().sum()"
   ],
   "metadata": {
    "collapsed": false,
    "ExecuteTime": {
     "end_time": "2023-12-09T21:35:51.788592Z",
     "start_time": "2023-12-09T21:35:51.758578500Z"
    }
   },
   "id": "a8ee8456a6c622e1"
  },
  {
   "cell_type": "code",
   "execution_count": 6,
   "outputs": [
    {
     "name": "stdout",
     "output_type": "stream",
     "text": [
      "Index(['hereditary_diseases', 'smoker', 'diabetes'], dtype='object')\n"
     ]
    }
   ],
   "source": [
    "from sklearn.linear_model import LinearRegression\n",
    "\n",
    "# Define target variable\n",
    "y = data[\"claim\"]\n",
    "\n",
    "# Define features\n",
    "X = data.drop(\"claim\", axis=1)\n",
    "\n",
    "# Create the RFE model using a regression model\n",
    "rfe = RFE(LinearRegression(), n_features_to_select=3)\n",
    "\n",
    "# Fit the model\n",
    "rfe.fit(X, y)\n",
    "\n",
    "# Get the selected features\n",
    "selected_features = X.columns[rfe.support_]\n",
    "\n",
    "# Print the selected features\n",
    "print(selected_features)\n"
   ],
   "metadata": {
    "collapsed": false,
    "ExecuteTime": {
     "end_time": "2023-12-09T21:19:54.245926300Z",
     "start_time": "2023-12-09T21:19:54.222485300Z"
    }
   },
   "id": "5773be3a4a9347fa"
  },
  {
   "cell_type": "code",
   "execution_count": 41,
   "outputs": [
    {
     "name": "stdout",
     "output_type": "stream",
     "text": [
      "Selected features: Index(['hereditary_diseases', 'smoker', 'diabetes'], dtype='object')\n",
      "Least significant features: ['age', 'sex', 'weight', 'bmi', 'no_of_dependents', 'city', 'bloodpressure', 'regular_ex', 'job_title']\n"
     ]
    }
   ],
   "source": [
    "from sklearn.linear_model import LinearRegression\n",
    "\n",
    "# Define target variable\n",
    "y = data[\"claim\"]\n",
    "\n",
    "# Define features\n",
    "X = data.drop(\"claim\", axis=1)\n",
    "\n",
    "# Create the RFE model using a regression model\n",
    "rfe = RFE(LinearRegression(), n_features_to_select=3)\n",
    "\n",
    "# Fit the model\n",
    "rfe.fit(X, y)\n",
    "\n",
    "# Get the selected features\n",
    "selected_features = X.columns[rfe.support_]\n",
    "\n",
    "# Identify remaining features as least significant\n",
    "least_significant_features = [feature for feature in X.columns if feature not in selected_features]\n",
    "\n",
    "# Print the selected and least significant features\n",
    "print(\"Selected features:\", selected_features)\n",
    "print(\"Least significant features:\", least_significant_features)\n"
   ],
   "metadata": {
    "collapsed": false,
    "ExecuteTime": {
     "end_time": "2023-12-09T21:39:27.871043500Z",
     "start_time": "2023-12-09T21:39:27.788716400Z"
    }
   },
   "id": "f7d6932498d5e9a"
  },
  {
   "cell_type": "code",
   "execution_count": null,
   "outputs": [],
   "source": [],
   "metadata": {
    "collapsed": false
   },
   "id": "4c969391b49203ed"
  },
  {
   "cell_type": "code",
   "execution_count": null,
   "outputs": [],
   "source": [],
   "metadata": {
    "collapsed": false
   },
   "id": "5fde55eba4c5c77b"
  }
 ],
 "metadata": {
  "kernelspec": {
   "display_name": "Python 3",
   "language": "python",
   "name": "python3"
  },
  "language_info": {
   "codemirror_mode": {
    "name": "ipython",
    "version": 2
   },
   "file_extension": ".py",
   "mimetype": "text/x-python",
   "name": "python",
   "nbconvert_exporter": "python",
   "pygments_lexer": "ipython2",
   "version": "2.7.6"
  }
 },
 "nbformat": 4,
 "nbformat_minor": 5
}
